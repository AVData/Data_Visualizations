{
 "cells": [
  {
   "cell_type": "markdown",
   "metadata": {},
   "source": [
    "# Stepwise methods to data exploration\n",
    " - Import data, and explore features: Feature exploration is performed to to have a thorough understanding of the dataframe.\n",
    "     - Questions to ask are the following:\n",
    "         - ~What are the features available?~\n",
    "         - ~What are the data types of each feature?~\n",
    "         - ~Are there Null, or NaN values in the data?~\n",
    "         - ~What are the steps necessary to clean the data?~\n",
    "         - ~Are there target features that are interesting to me/my questions?~\n",
    "         - Determine the statistical analysis that can be performed given the available data.\n",
    " - Cleaning and feature engineering\n",
    "      - Once a good understanding of the data has been established the following questions will help guide you through the cleaning and analysis of the dataframe:\n",
    "          - What questions can be asked with the available data, and what questions would I like to ask from the data?\n",
    "          - Has the data been cleaned enough to help answer the questions I would like to ask of the data?\n",
    "          - Are there features I can engineer to ask better questions, or obtain answers to the questions I already have?\n",
    "          - Make sure to write down an overarching qustion when feature engineering so that it remains a guiding tool during your analysis.\n",
    " - Analysis and Visualizations\n",
    "     - Perform sound statistical tests, and provide visualizations to support those tests\n",
    "     - The type of libraries used are vital in rendering aesthetically, and user friendly visualizations.\n",
    "     - [MatplotLib](https://matplotlib.org) is a more intricate library to work with.  [Plotly](https://plotly.com/python/) provides a more user friendly rendition that can be inbetted and interactive on a portfolio site.\n",
    "\n",
    "###### Note: This exploration is being performed to practice using data visualization tools.  A large portion of this work can be done with the [Pandas Profilling Package](https://pandas-profiling.github.io/pandas-profiling/docs/master/index.html)."
   ]
  },
  {
   "cell_type": "code",
   "execution_count": 9,
   "metadata": {
    "collapsed": true,
    "jupyter": {
     "outputs_hidden": true
    }
   },
   "outputs": [
    {
     "name": "stdout",
     "output_type": "stream",
     "text": [
      "Requirement already satisfied: plotly in /users/flanuer/opt/anaconda3/lib/python3.7/site-packages (4.6.0)\n",
      "Requirement already satisfied: retrying>=1.3.3 in /users/flanuer/opt/anaconda3/lib/python3.7/site-packages (from plotly) (1.3.3)\n",
      "Requirement already satisfied: six in /users/flanuer/opt/anaconda3/lib/python3.7/site-packages (from plotly) (1.15.0)\n",
      "Requirement already satisfied: cufflinks in /users/flanuer/opt/anaconda3/lib/python3.7/site-packages (0.17.3)\n",
      "Requirement already satisfied: setuptools>=34.4.1 in /users/flanuer/opt/anaconda3/lib/python3.7/site-packages (from cufflinks) (47.3.1.post20200616)\n",
      "Requirement already satisfied: numpy>=1.9.2 in /users/flanuer/opt/anaconda3/lib/python3.7/site-packages (from cufflinks) (1.18.1)\n",
      "Requirement already satisfied: plotly>=4.1.1 in /users/flanuer/opt/anaconda3/lib/python3.7/site-packages (from cufflinks) (4.6.0)\n",
      "Requirement already satisfied: ipywidgets>=7.0.0 in /users/flanuer/opt/anaconda3/lib/python3.7/site-packages (from cufflinks) (7.5.1)\n",
      "Requirement already satisfied: pandas>=0.19.2 in /users/flanuer/opt/anaconda3/lib/python3.7/site-packages (from cufflinks) (1.0.4)\n",
      "Requirement already satisfied: colorlover>=0.2.1 in /users/flanuer/opt/anaconda3/lib/python3.7/site-packages (from cufflinks) (0.3.0)\n",
      "Requirement already satisfied: six>=1.9.0 in /users/flanuer/opt/anaconda3/lib/python3.7/site-packages (from cufflinks) (1.15.0)\n",
      "Requirement already satisfied: ipython>=5.3.0 in /users/flanuer/opt/anaconda3/lib/python3.7/site-packages (from cufflinks) (7.15.0)\n",
      "Requirement already satisfied: retrying>=1.3.3 in /users/flanuer/opt/anaconda3/lib/python3.7/site-packages (from plotly>=4.1.1->cufflinks) (1.3.3)\n",
      "Requirement already satisfied: nbformat>=4.2.0 in /users/flanuer/opt/anaconda3/lib/python3.7/site-packages (from ipywidgets>=7.0.0->cufflinks) (5.0.6)\n",
      "Requirement already satisfied: traitlets>=4.3.1 in /users/flanuer/opt/anaconda3/lib/python3.7/site-packages (from ipywidgets>=7.0.0->cufflinks) (4.3.3)\n",
      "Requirement already satisfied: ipykernel>=4.5.1 in /users/flanuer/opt/anaconda3/lib/python3.7/site-packages (from ipywidgets>=7.0.0->cufflinks) (5.3.0)\n",
      "Requirement already satisfied: widgetsnbextension~=3.5.0 in /users/flanuer/opt/anaconda3/lib/python3.7/site-packages (from ipywidgets>=7.0.0->cufflinks) (3.5.1)\n",
      "Requirement already satisfied: pytz>=2017.2 in /users/flanuer/opt/anaconda3/lib/python3.7/site-packages (from pandas>=0.19.2->cufflinks) (2020.1)\n",
      "Requirement already satisfied: python-dateutil>=2.6.1 in /users/flanuer/opt/anaconda3/lib/python3.7/site-packages (from pandas>=0.19.2->cufflinks) (2.8.1)\n",
      "Requirement already satisfied: pygments in /users/flanuer/opt/anaconda3/lib/python3.7/site-packages (from ipython>=5.3.0->cufflinks) (2.6.1)\n",
      "Requirement already satisfied: decorator in /users/flanuer/opt/anaconda3/lib/python3.7/site-packages (from ipython>=5.3.0->cufflinks) (4.4.2)\n",
      "Requirement already satisfied: backcall in /users/flanuer/opt/anaconda3/lib/python3.7/site-packages (from ipython>=5.3.0->cufflinks) (0.2.0)\n",
      "Requirement already satisfied: prompt-toolkit!=3.0.0,!=3.0.1,<3.1.0,>=2.0.0 in /users/flanuer/opt/anaconda3/lib/python3.7/site-packages (from ipython>=5.3.0->cufflinks) (3.0.5)\n",
      "Requirement already satisfied: pickleshare in /users/flanuer/opt/anaconda3/lib/python3.7/site-packages (from ipython>=5.3.0->cufflinks) (0.7.5)\n",
      "Requirement already satisfied: pexpect; sys_platform != \"win32\" in /users/flanuer/opt/anaconda3/lib/python3.7/site-packages (from ipython>=5.3.0->cufflinks) (4.8.0)\n",
      "Requirement already satisfied: jedi>=0.10 in /users/flanuer/opt/anaconda3/lib/python3.7/site-packages (from ipython>=5.3.0->cufflinks) (0.17.0)\n",
      "Requirement already satisfied: appnope; sys_platform == \"darwin\" in /users/flanuer/opt/anaconda3/lib/python3.7/site-packages (from ipython>=5.3.0->cufflinks) (0.1.0)\n",
      "Requirement already satisfied: jupyter-core in /users/flanuer/opt/anaconda3/lib/python3.7/site-packages (from nbformat>=4.2.0->ipywidgets>=7.0.0->cufflinks) (4.6.3)\n",
      "Requirement already satisfied: jsonschema!=2.5.0,>=2.4 in /users/flanuer/opt/anaconda3/lib/python3.7/site-packages (from nbformat>=4.2.0->ipywidgets>=7.0.0->cufflinks) (3.2.0)\n",
      "Requirement already satisfied: ipython-genutils in /users/flanuer/opt/anaconda3/lib/python3.7/site-packages (from nbformat>=4.2.0->ipywidgets>=7.0.0->cufflinks) (0.2.0)\n",
      "Requirement already satisfied: jupyter-client in /users/flanuer/opt/anaconda3/lib/python3.7/site-packages (from ipykernel>=4.5.1->ipywidgets>=7.0.0->cufflinks) (6.1.3)\n",
      "Requirement already satisfied: tornado>=4.2 in /users/flanuer/opt/anaconda3/lib/python3.7/site-packages (from ipykernel>=4.5.1->ipywidgets>=7.0.0->cufflinks) (6.0.4)\n",
      "Requirement already satisfied: notebook>=4.4.1 in /users/flanuer/opt/anaconda3/lib/python3.7/site-packages (from widgetsnbextension~=3.5.0->ipywidgets>=7.0.0->cufflinks) (6.0.3)\n",
      "Requirement already satisfied: wcwidth in /users/flanuer/opt/anaconda3/lib/python3.7/site-packages (from prompt-toolkit!=3.0.0,!=3.0.1,<3.1.0,>=2.0.0->ipython>=5.3.0->cufflinks) (0.2.4)\n",
      "Requirement already satisfied: ptyprocess>=0.5 in /users/flanuer/opt/anaconda3/lib/python3.7/site-packages (from pexpect; sys_platform != \"win32\"->ipython>=5.3.0->cufflinks) (0.6.0)\n",
      "Requirement already satisfied: parso>=0.7.0 in /users/flanuer/opt/anaconda3/lib/python3.7/site-packages (from jedi>=0.10->ipython>=5.3.0->cufflinks) (0.7.0)\n",
      "Requirement already satisfied: pyrsistent>=0.14.0 in /users/flanuer/opt/anaconda3/lib/python3.7/site-packages (from jsonschema!=2.5.0,>=2.4->nbformat>=4.2.0->ipywidgets>=7.0.0->cufflinks) (0.16.0)\n",
      "Requirement already satisfied: importlib-metadata; python_version < \"3.8\" in /users/flanuer/opt/anaconda3/lib/python3.7/site-packages (from jsonschema!=2.5.0,>=2.4->nbformat>=4.2.0->ipywidgets>=7.0.0->cufflinks) (1.6.1)\n",
      "Requirement already satisfied: attrs>=17.4.0 in /users/flanuer/opt/anaconda3/lib/python3.7/site-packages (from jsonschema!=2.5.0,>=2.4->nbformat>=4.2.0->ipywidgets>=7.0.0->cufflinks) (19.3.0)\n",
      "Requirement already satisfied: pyzmq>=13 in /users/flanuer/opt/anaconda3/lib/python3.7/site-packages (from jupyter-client->ipykernel>=4.5.1->ipywidgets>=7.0.0->cufflinks) (19.0.1)\n",
      "Requirement already satisfied: jinja2 in /users/flanuer/opt/anaconda3/lib/python3.7/site-packages (from notebook>=4.4.1->widgetsnbextension~=3.5.0->ipywidgets>=7.0.0->cufflinks) (2.11.2)\n",
      "Requirement already satisfied: Send2Trash in /users/flanuer/opt/anaconda3/lib/python3.7/site-packages (from notebook>=4.4.1->widgetsnbextension~=3.5.0->ipywidgets>=7.0.0->cufflinks) (1.5.0)\n",
      "Requirement already satisfied: terminado>=0.8.1 in /users/flanuer/opt/anaconda3/lib/python3.7/site-packages (from notebook>=4.4.1->widgetsnbextension~=3.5.0->ipywidgets>=7.0.0->cufflinks) (0.8.3)\n",
      "Requirement already satisfied: prometheus-client in /users/flanuer/opt/anaconda3/lib/python3.7/site-packages (from notebook>=4.4.1->widgetsnbextension~=3.5.0->ipywidgets>=7.0.0->cufflinks) (0.8.0)\n",
      "Requirement already satisfied: nbconvert in /users/flanuer/opt/anaconda3/lib/python3.7/site-packages (from notebook>=4.4.1->widgetsnbextension~=3.5.0->ipywidgets>=7.0.0->cufflinks) (5.6.1)\n",
      "Requirement already satisfied: zipp>=0.5 in /users/flanuer/opt/anaconda3/lib/python3.7/site-packages (from importlib-metadata; python_version < \"3.8\"->jsonschema!=2.5.0,>=2.4->nbformat>=4.2.0->ipywidgets>=7.0.0->cufflinks) (3.1.0)\n",
      "Requirement already satisfied: MarkupSafe>=0.23 in /users/flanuer/opt/anaconda3/lib/python3.7/site-packages (from jinja2->notebook>=4.4.1->widgetsnbextension~=3.5.0->ipywidgets>=7.0.0->cufflinks) (1.1.1)\n",
      "Requirement already satisfied: testpath in /users/flanuer/opt/anaconda3/lib/python3.7/site-packages (from nbconvert->notebook>=4.4.1->widgetsnbextension~=3.5.0->ipywidgets>=7.0.0->cufflinks) (0.4.4)\n",
      "Requirement already satisfied: entrypoints>=0.2.2 in /users/flanuer/opt/anaconda3/lib/python3.7/site-packages (from nbconvert->notebook>=4.4.1->widgetsnbextension~=3.5.0->ipywidgets>=7.0.0->cufflinks) (0.3)\n",
      "Requirement already satisfied: bleach in /users/flanuer/opt/anaconda3/lib/python3.7/site-packages (from nbconvert->notebook>=4.4.1->widgetsnbextension~=3.5.0->ipywidgets>=7.0.0->cufflinks) (3.1.5)\n",
      "Requirement already satisfied: defusedxml in /users/flanuer/opt/anaconda3/lib/python3.7/site-packages (from nbconvert->notebook>=4.4.1->widgetsnbextension~=3.5.0->ipywidgets>=7.0.0->cufflinks) (0.6.0)\n",
      "Requirement already satisfied: mistune<2,>=0.8.1 in /users/flanuer/opt/anaconda3/lib/python3.7/site-packages (from nbconvert->notebook>=4.4.1->widgetsnbextension~=3.5.0->ipywidgets>=7.0.0->cufflinks) (0.8.4)\n",
      "Requirement already satisfied: pandocfilters>=1.4.1 in /users/flanuer/opt/anaconda3/lib/python3.7/site-packages (from nbconvert->notebook>=4.4.1->widgetsnbextension~=3.5.0->ipywidgets>=7.0.0->cufflinks) (1.4.2)\n",
      "Requirement already satisfied: packaging in /users/flanuer/opt/anaconda3/lib/python3.7/site-packages (from bleach->nbconvert->notebook>=4.4.1->widgetsnbextension~=3.5.0->ipywidgets>=7.0.0->cufflinks) (20.4)\n",
      "Requirement already satisfied: webencodings in /users/flanuer/opt/anaconda3/lib/python3.7/site-packages (from bleach->nbconvert->notebook>=4.4.1->widgetsnbextension~=3.5.0->ipywidgets>=7.0.0->cufflinks) (0.5.1)\n",
      "Requirement already satisfied: pyparsing>=2.0.2 in /users/flanuer/opt/anaconda3/lib/python3.7/site-packages (from packaging->bleach->nbconvert->notebook>=4.4.1->widgetsnbextension~=3.5.0->ipywidgets>=7.0.0->cufflinks) (2.4.7)\n",
      "Requirement already satisfied: jupyter_dash in /users/flanuer/opt/anaconda3/lib/python3.7/site-packages (0.2.1.post1)\n",
      "Requirement already satisfied: requests in /users/flanuer/opt/anaconda3/lib/python3.7/site-packages (from jupyter_dash) (2.23.0)\n",
      "Requirement already satisfied: ipykernel in /users/flanuer/opt/anaconda3/lib/python3.7/site-packages (from jupyter_dash) (5.3.0)\n",
      "Requirement already satisfied: retrying in /users/flanuer/opt/anaconda3/lib/python3.7/site-packages (from jupyter_dash) (1.3.3)\n",
      "Requirement already satisfied: dash in /users/flanuer/opt/anaconda3/lib/python3.7/site-packages (from jupyter_dash) (1.13.3)\n",
      "Requirement already satisfied: ansi2html in /users/flanuer/opt/anaconda3/lib/python3.7/site-packages (from jupyter_dash) (1.5.2)\n",
      "Requirement already satisfied: flask in /users/flanuer/opt/anaconda3/lib/python3.7/site-packages (from jupyter_dash) (1.1.2)\n",
      "Requirement already satisfied: ipython in /users/flanuer/opt/anaconda3/lib/python3.7/site-packages (from jupyter_dash) (7.15.0)\n",
      "Requirement already satisfied: certifi>=2017.4.17 in /users/flanuer/opt/anaconda3/lib/python3.7/site-packages (from requests->jupyter_dash) (2020.4.5.2)\n",
      "Requirement already satisfied: chardet<4,>=3.0.2 in /users/flanuer/opt/anaconda3/lib/python3.7/site-packages (from requests->jupyter_dash) (3.0.4)\n",
      "Requirement already satisfied: urllib3!=1.25.0,!=1.25.1,<1.26,>=1.21.1 in /users/flanuer/opt/anaconda3/lib/python3.7/site-packages (from requests->jupyter_dash) (1.25.9)\n",
      "Requirement already satisfied: idna<3,>=2.5 in /Users/flanuer/.local/lib/python3.7/site-packages (from requests->jupyter_dash) (2.7)\n",
      "Requirement already satisfied: traitlets>=4.1.0 in /users/flanuer/opt/anaconda3/lib/python3.7/site-packages (from ipykernel->jupyter_dash) (4.3.3)\n",
      "Requirement already satisfied: appnope; platform_system == \"Darwin\" in /users/flanuer/opt/anaconda3/lib/python3.7/site-packages (from ipykernel->jupyter_dash) (0.1.0)\n",
      "Requirement already satisfied: jupyter-client in /users/flanuer/opt/anaconda3/lib/python3.7/site-packages (from ipykernel->jupyter_dash) (6.1.3)\n",
      "Requirement already satisfied: tornado>=4.2 in /users/flanuer/opt/anaconda3/lib/python3.7/site-packages (from ipykernel->jupyter_dash) (6.0.4)\n",
      "Requirement already satisfied: six>=1.7.0 in /users/flanuer/opt/anaconda3/lib/python3.7/site-packages (from retrying->jupyter_dash) (1.15.0)\n",
      "Requirement already satisfied: flask-compress in /users/flanuer/opt/anaconda3/lib/python3.7/site-packages (from dash->jupyter_dash) (1.5.0)\n",
      "Requirement already satisfied: future in /Users/flanuer/.local/lib/python3.7/site-packages (from dash->jupyter_dash) (0.16.0)\n",
      "Requirement already satisfied: dash-core-components==1.10.1 in /users/flanuer/opt/anaconda3/lib/python3.7/site-packages (from dash->jupyter_dash) (1.10.1)\n",
      "Requirement already satisfied: dash-renderer==1.5.0 in /users/flanuer/opt/anaconda3/lib/python3.7/site-packages (from dash->jupyter_dash) (1.5.0)\n",
      "Requirement already satisfied: dash-table==4.8.1 in /users/flanuer/opt/anaconda3/lib/python3.7/site-packages (from dash->jupyter_dash) (4.8.1)\n",
      "Requirement already satisfied: dash-html-components==1.0.3 in /users/flanuer/opt/anaconda3/lib/python3.7/site-packages (from dash->jupyter_dash) (1.0.3)\n",
      "Requirement already satisfied: plotly in /users/flanuer/opt/anaconda3/lib/python3.7/site-packages (from dash->jupyter_dash) (4.6.0)\n",
      "Requirement already satisfied: Jinja2>=2.10.1 in /users/flanuer/opt/anaconda3/lib/python3.7/site-packages (from flask->jupyter_dash) (2.11.2)\n",
      "Requirement already satisfied: itsdangerous>=0.24 in /users/flanuer/opt/anaconda3/lib/python3.7/site-packages (from flask->jupyter_dash) (1.1.0)\n",
      "Requirement already satisfied: click>=5.1 in /users/flanuer/opt/anaconda3/lib/python3.7/site-packages (from flask->jupyter_dash) (7.1.2)\n",
      "Requirement already satisfied: Werkzeug>=0.15 in /users/flanuer/opt/anaconda3/lib/python3.7/site-packages (from flask->jupyter_dash) (1.0.1)\n",
      "Requirement already satisfied: prompt-toolkit!=3.0.0,!=3.0.1,<3.1.0,>=2.0.0 in /users/flanuer/opt/anaconda3/lib/python3.7/site-packages (from ipython->jupyter_dash) (3.0.5)\n",
      "Requirement already satisfied: pygments in /users/flanuer/opt/anaconda3/lib/python3.7/site-packages (from ipython->jupyter_dash) (2.6.1)\n",
      "Requirement already satisfied: decorator in /users/flanuer/opt/anaconda3/lib/python3.7/site-packages (from ipython->jupyter_dash) (4.4.2)\n",
      "Requirement already satisfied: setuptools>=18.5 in /users/flanuer/opt/anaconda3/lib/python3.7/site-packages (from ipython->jupyter_dash) (47.3.1.post20200616)\n",
      "Requirement already satisfied: backcall in /users/flanuer/opt/anaconda3/lib/python3.7/site-packages (from ipython->jupyter_dash) (0.2.0)\n",
      "Requirement already satisfied: jedi>=0.10 in /users/flanuer/opt/anaconda3/lib/python3.7/site-packages (from ipython->jupyter_dash) (0.17.0)\n",
      "Requirement already satisfied: pexpect; sys_platform != \"win32\" in /users/flanuer/opt/anaconda3/lib/python3.7/site-packages (from ipython->jupyter_dash) (4.8.0)\n",
      "Requirement already satisfied: pickleshare in /users/flanuer/opt/anaconda3/lib/python3.7/site-packages (from ipython->jupyter_dash) (0.7.5)\n",
      "Requirement already satisfied: ipython-genutils in /users/flanuer/opt/anaconda3/lib/python3.7/site-packages (from traitlets>=4.1.0->ipykernel->jupyter_dash) (0.2.0)\n",
      "Requirement already satisfied: pyzmq>=13 in /users/flanuer/opt/anaconda3/lib/python3.7/site-packages (from jupyter-client->ipykernel->jupyter_dash) (19.0.1)\n",
      "Requirement already satisfied: jupyter-core>=4.6.0 in /users/flanuer/opt/anaconda3/lib/python3.7/site-packages (from jupyter-client->ipykernel->jupyter_dash) (4.6.3)\n",
      "Requirement already satisfied: python-dateutil>=2.1 in /users/flanuer/opt/anaconda3/lib/python3.7/site-packages (from jupyter-client->ipykernel->jupyter_dash) (2.8.1)\n",
      "Requirement already satisfied: brotli in /users/flanuer/opt/anaconda3/lib/python3.7/site-packages (from flask-compress->dash->jupyter_dash) (1.0.7)\n",
      "Requirement already satisfied: MarkupSafe>=0.23 in /users/flanuer/opt/anaconda3/lib/python3.7/site-packages (from Jinja2>=2.10.1->flask->jupyter_dash) (1.1.1)\n",
      "Requirement already satisfied: wcwidth in /users/flanuer/opt/anaconda3/lib/python3.7/site-packages (from prompt-toolkit!=3.0.0,!=3.0.1,<3.1.0,>=2.0.0->ipython->jupyter_dash) (0.2.4)\n",
      "Requirement already satisfied: parso>=0.7.0 in /users/flanuer/opt/anaconda3/lib/python3.7/site-packages (from jedi>=0.10->ipython->jupyter_dash) (0.7.0)\n",
      "Requirement already satisfied: ptyprocess>=0.5 in /users/flanuer/opt/anaconda3/lib/python3.7/site-packages (from pexpect; sys_platform != \"win32\"->ipython->jupyter_dash) (0.6.0)\n"
     ]
    }
   ],
   "source": [
    "! pip install plotly\n",
    "! pip install cufflinks\n",
    "! pip install jupyter_dash\n",
    "# ! pip install "
   ]
  },
  {
   "cell_type": "code",
   "execution_count": 1,
   "metadata": {
    "colab": {},
    "colab_type": "code",
    "id": "1TCa7RG4CwZb"
   },
   "outputs": [],
   "source": [
    "import numpy as np\n",
    "import pandas as pd\n",
    "\n",
    "from scipy import stats\n",
    "from datetime import datetime, timedelta\n",
    "from scipy.stats.distributions import chi2\n",
    "\n",
    "import matplotlib\n",
    "import matplotlib.pyplot as plt\n",
    "\n",
    "import plotly\n",
    "import cufflinks as cf\n",
    "import plotly.express as px\n",
    "import plotly.graph_objs as go\n",
    "import chart_studio.plotly as py\n",
    "import plotly.figure_factory as ff\n",
    "from IPython.display import IFrame"
   ]
  },
  {
   "cell_type": "code",
   "execution_count": 2,
   "metadata": {
    "colab": {
     "base_uri": "https://localhost:8080/",
     "height": 606
    },
    "colab_type": "code",
    "id": "qbJxaQUCCzDb",
    "outputId": "d712883e-61a1-43fe-a594-8aef749487f5"
   },
   "outputs": [],
   "source": [
    "# Reading in data as csv with delimiter ';'\n",
    "# Note: The previously used dataframe was 'sleepdata.csv', now using an updated\n",
    "# dataframe that contains new data (including the data from the aforementioned df)\n",
    "\n",
    "df = pd.read_csv('./sleepdata2.csv', delimiter=';')"
   ]
  },
  {
   "cell_type": "code",
   "execution_count": 3,
   "metadata": {},
   "outputs": [
    {
     "data": {
      "text/html": [
       "<div>\n",
       "<style scoped>\n",
       "    .dataframe tbody tr th:only-of-type {\n",
       "        vertical-align: middle;\n",
       "    }\n",
       "\n",
       "    .dataframe tbody tr th {\n",
       "        vertical-align: top;\n",
       "    }\n",
       "\n",
       "    .dataframe thead th {\n",
       "        text-align: right;\n",
       "    }\n",
       "</style>\n",
       "<table border=\"1\" class=\"dataframe\">\n",
       "  <thead>\n",
       "    <tr style=\"text-align: right;\">\n",
       "      <th></th>\n",
       "      <th>Start</th>\n",
       "      <th>End</th>\n",
       "      <th>Sleep quality</th>\n",
       "      <th>Time in bed</th>\n",
       "      <th>Wake up</th>\n",
       "      <th>Sleep Notes</th>\n",
       "      <th>Heart rate</th>\n",
       "      <th>Activity (steps)</th>\n",
       "    </tr>\n",
       "  </thead>\n",
       "  <tbody>\n",
       "    <tr>\n",
       "      <th>0</th>\n",
       "      <td>2018-08-21 00:17:44</td>\n",
       "      <td>2018-08-21 06:31:59</td>\n",
       "      <td>55%</td>\n",
       "      <td>6:14</td>\n",
       "      <td>NaN</td>\n",
       "      <td>NaN</td>\n",
       "      <td>0</td>\n",
       "      <td>0</td>\n",
       "    </tr>\n",
       "    <tr>\n",
       "      <th>1</th>\n",
       "      <td>2018-08-22 00:08:58</td>\n",
       "      <td>2018-08-22 06:48:15</td>\n",
       "      <td>77%</td>\n",
       "      <td>6:39</td>\n",
       "      <td>NaN</td>\n",
       "      <td>NaN</td>\n",
       "      <td>0</td>\n",
       "      <td>0</td>\n",
       "    </tr>\n",
       "    <tr>\n",
       "      <th>2</th>\n",
       "      <td>2018-08-23 00:26:59</td>\n",
       "      <td>2018-08-23 05:14:15</td>\n",
       "      <td>57%</td>\n",
       "      <td>4:47</td>\n",
       "      <td>NaN</td>\n",
       "      <td>NaN</td>\n",
       "      <td>0</td>\n",
       "      <td>0</td>\n",
       "    </tr>\n",
       "  </tbody>\n",
       "</table>\n",
       "</div>"
      ],
      "text/plain": [
       "                 Start                  End Sleep quality Time in bed Wake up  \\\n",
       "0  2018-08-21 00:17:44  2018-08-21 06:31:59           55%        6:14     NaN   \n",
       "1  2018-08-22 00:08:58  2018-08-22 06:48:15           77%        6:39     NaN   \n",
       "2  2018-08-23 00:26:59  2018-08-23 05:14:15           57%        4:47     NaN   \n",
       "\n",
       "  Sleep Notes  Heart rate  Activity (steps)  \n",
       "0         NaN           0                 0  \n",
       "1         NaN           0                 0  \n",
       "2         NaN           0                 0  "
      ]
     },
     "execution_count": 3,
     "metadata": {},
     "output_type": "execute_result"
    }
   ],
   "source": [
    "# What are the features available in my dataframe?\n",
    "\n",
    "# Features that standout are [0:4]\n",
    "# The target feature being 'Sleep quality'\n",
    "\n",
    "df.head(3)"
   ]
  },
  {
   "cell_type": "code",
   "execution_count": 4,
   "metadata": {},
   "outputs": [
    {
     "name": "stdout",
     "output_type": "stream",
     "text": [
      "<class 'pandas.core.frame.DataFrame'>\n",
      "RangeIndex: 599 entries, 0 to 598\n",
      "Data columns (total 8 columns):\n",
      " #   Column            Non-Null Count  Dtype \n",
      "---  ------            --------------  ----- \n",
      " 0   Start             599 non-null    object\n",
      " 1   End               599 non-null    object\n",
      " 2   Sleep quality     599 non-null    object\n",
      " 3   Time in bed       599 non-null    object\n",
      " 4   Wake up           192 non-null    object\n",
      " 5   Sleep Notes       177 non-null    object\n",
      " 6   Heart rate        599 non-null    int64 \n",
      " 7   Activity (steps)  599 non-null    int64 \n",
      "dtypes: int64(2), object(6)\n",
      "memory usage: 37.6+ KB\n"
     ]
    }
   ],
   "source": [
    "# What are the datatypes of the features?\n",
    "\n",
    "# .info() provides an insight into the data\n",
    "\n",
    "df.info()"
   ]
  },
  {
   "cell_type": "code",
   "execution_count": 5,
   "metadata": {
    "colab": {
     "base_uri": "https://localhost:8080/",
     "height": 170
    },
    "colab_type": "code",
    "id": "70_RtH4RFowr",
    "outputId": "e5220bfd-7b62-4fd1-9547-e5acd4c6a022"
   },
   "outputs": [
    {
     "name": "stdout",
     "output_type": "stream",
     "text": [
      "Sleep data null values in:\n",
      "Start                 0\n",
      "End                   0\n",
      "Sleep quality         0\n",
      "Time in bed           0\n",
      "Wake up             407\n",
      "Sleep Notes         422\n",
      "Heart rate            0\n",
      "Activity (steps)      0\n",
      "dtype: int64\n"
     ]
    }
   ],
   "source": [
    "# Note: 'Start' and 'End' colummns should be datetime types but appear\n",
    "# to be objects; 'Sleep quality' and 'Time in bed' are also float, and\n",
    "# datetime respectively but appear as object as well.\n",
    "\n",
    "# Are there Null vallues in the dataframe?\n",
    "\n",
    "print(f\"Sleep data null values in:\\n{df.isnull().sum()}\")"
   ]
  },
  {
   "cell_type": "code",
   "execution_count": 6,
   "metadata": {},
   "outputs": [
    {
     "data": {
      "text/html": [
       "<div>\n",
       "<style scoped>\n",
       "    .dataframe tbody tr th:only-of-type {\n",
       "        vertical-align: middle;\n",
       "    }\n",
       "\n",
       "    .dataframe tbody tr th {\n",
       "        vertical-align: top;\n",
       "    }\n",
       "\n",
       "    .dataframe thead th {\n",
       "        text-align: right;\n",
       "    }\n",
       "</style>\n",
       "<table border=\"1\" class=\"dataframe\">\n",
       "  <thead>\n",
       "    <tr style=\"text-align: right;\">\n",
       "      <th></th>\n",
       "      <th>Heart rate</th>\n",
       "      <th>Wake up</th>\n",
       "      <th>Sleep Notes</th>\n",
       "    </tr>\n",
       "  </thead>\n",
       "  <tbody>\n",
       "    <tr>\n",
       "      <th>count</th>\n",
       "      <td>599.000000</td>\n",
       "      <td>192</td>\n",
       "      <td>177</td>\n",
       "    </tr>\n",
       "    <tr>\n",
       "      <th>unique</th>\n",
       "      <td>NaN</td>\n",
       "      <td>3</td>\n",
       "      <td>38</td>\n",
       "    </tr>\n",
       "    <tr>\n",
       "      <th>top</th>\n",
       "      <td>NaN</td>\n",
       "      <td>:|</td>\n",
       "      <td>Ate late:Coffee:Stressful day</td>\n",
       "    </tr>\n",
       "    <tr>\n",
       "      <th>freq</th>\n",
       "      <td>NaN</td>\n",
       "      <td>138</td>\n",
       "      <td>40</td>\n",
       "    </tr>\n",
       "    <tr>\n",
       "      <th>mean</th>\n",
       "      <td>2.425710</td>\n",
       "      <td>NaN</td>\n",
       "      <td>NaN</td>\n",
       "    </tr>\n",
       "    <tr>\n",
       "      <th>std</th>\n",
       "      <td>11.852525</td>\n",
       "      <td>NaN</td>\n",
       "      <td>NaN</td>\n",
       "    </tr>\n",
       "    <tr>\n",
       "      <th>min</th>\n",
       "      <td>0.000000</td>\n",
       "      <td>NaN</td>\n",
       "      <td>NaN</td>\n",
       "    </tr>\n",
       "    <tr>\n",
       "      <th>25%</th>\n",
       "      <td>0.000000</td>\n",
       "      <td>NaN</td>\n",
       "      <td>NaN</td>\n",
       "    </tr>\n",
       "    <tr>\n",
       "      <th>50%</th>\n",
       "      <td>0.000000</td>\n",
       "      <td>NaN</td>\n",
       "      <td>NaN</td>\n",
       "    </tr>\n",
       "    <tr>\n",
       "      <th>75%</th>\n",
       "      <td>0.000000</td>\n",
       "      <td>NaN</td>\n",
       "      <td>NaN</td>\n",
       "    </tr>\n",
       "    <tr>\n",
       "      <th>max</th>\n",
       "      <td>79.000000</td>\n",
       "      <td>NaN</td>\n",
       "      <td>NaN</td>\n",
       "    </tr>\n",
       "  </tbody>\n",
       "</table>\n",
       "</div>"
      ],
      "text/plain": [
       "        Heart rate Wake up                    Sleep Notes\n",
       "count   599.000000     192                            177\n",
       "unique         NaN       3                             38\n",
       "top            NaN      :|  Ate late:Coffee:Stressful day\n",
       "freq           NaN     138                             40\n",
       "mean      2.425710     NaN                            NaN\n",
       "std      11.852525     NaN                            NaN\n",
       "min       0.000000     NaN                            NaN\n",
       "25%       0.000000     NaN                            NaN\n",
       "50%       0.000000     NaN                            NaN\n",
       "75%       0.000000     NaN                            NaN\n",
       "max      79.000000     NaN                            NaN"
      ]
     },
     "execution_count": 6,
     "metadata": {},
     "output_type": "execute_result"
    }
   ],
   "source": [
    "# 'Wake up', 'Heart rate' and 'Sleep Notes' columns appear to contain\n",
    "# null values (not worth exploring further)\n",
    "\n",
    "# Dxploring 'Heart rate', 'Wake up', and 'Sleep Notes' columns\n",
    "\n",
    "df[['Heart rate', 'Wake up', 'Sleep Notes']].describe(include=['object', 'int', 'float'])"
   ]
  },
  {
   "cell_type": "code",
   "execution_count": 7,
   "metadata": {
    "colab": {
     "base_uri": "https://localhost:8080/",
     "height": 204
    },
    "colab_type": "code",
    "id": "KAru8KbLSuk6",
    "outputId": "107aac50-115c-41ff-d9a9-9b65ff268ba8"
   },
   "outputs": [
    {
     "data": {
      "text/html": [
       "<div>\n",
       "<style scoped>\n",
       "    .dataframe tbody tr th:only-of-type {\n",
       "        vertical-align: middle;\n",
       "    }\n",
       "\n",
       "    .dataframe tbody tr th {\n",
       "        vertical-align: top;\n",
       "    }\n",
       "\n",
       "    .dataframe thead th {\n",
       "        text-align: right;\n",
       "    }\n",
       "</style>\n",
       "<table border=\"1\" class=\"dataframe\">\n",
       "  <thead>\n",
       "    <tr style=\"text-align: right;\">\n",
       "      <th></th>\n",
       "      <th>Start</th>\n",
       "      <th>End</th>\n",
       "      <th>Sleep quality</th>\n",
       "      <th>Time in bed</th>\n",
       "      <th>Activity (steps)</th>\n",
       "    </tr>\n",
       "  </thead>\n",
       "  <tbody>\n",
       "    <tr>\n",
       "      <th>0</th>\n",
       "      <td>2018-08-21 00:17:44</td>\n",
       "      <td>2018-08-21 06:31:59</td>\n",
       "      <td>55%</td>\n",
       "      <td>6:14</td>\n",
       "      <td>0</td>\n",
       "    </tr>\n",
       "    <tr>\n",
       "      <th>1</th>\n",
       "      <td>2018-08-22 00:08:58</td>\n",
       "      <td>2018-08-22 06:48:15</td>\n",
       "      <td>77%</td>\n",
       "      <td>6:39</td>\n",
       "      <td>0</td>\n",
       "    </tr>\n",
       "    <tr>\n",
       "      <th>2</th>\n",
       "      <td>2018-08-23 00:26:59</td>\n",
       "      <td>2018-08-23 05:14:15</td>\n",
       "      <td>57%</td>\n",
       "      <td>4:47</td>\n",
       "      <td>0</td>\n",
       "    </tr>\n",
       "    <tr>\n",
       "      <th>3</th>\n",
       "      <td>2018-08-26 02:22:35</td>\n",
       "      <td>2018-08-26 06:25:43</td>\n",
       "      <td>35%</td>\n",
       "      <td>4:03</td>\n",
       "      <td>0</td>\n",
       "    </tr>\n",
       "    <tr>\n",
       "      <th>4</th>\n",
       "      <td>2018-08-27 00:54:25</td>\n",
       "      <td>2018-08-27 08:24:27</td>\n",
       "      <td>62%</td>\n",
       "      <td>7:30</td>\n",
       "      <td>0</td>\n",
       "    </tr>\n",
       "  </tbody>\n",
       "</table>\n",
       "</div>"
      ],
      "text/plain": [
       "                 Start                  End Sleep quality Time in bed  \\\n",
       "0  2018-08-21 00:17:44  2018-08-21 06:31:59           55%        6:14   \n",
       "1  2018-08-22 00:08:58  2018-08-22 06:48:15           77%        6:39   \n",
       "2  2018-08-23 00:26:59  2018-08-23 05:14:15           57%        4:47   \n",
       "3  2018-08-26 02:22:35  2018-08-26 06:25:43           35%        4:03   \n",
       "4  2018-08-27 00:54:25  2018-08-27 08:24:27           62%        7:30   \n",
       "\n",
       "   Activity (steps)  \n",
       "0                 0  \n",
       "1                 0  \n",
       "2                 0  \n",
       "3                 0  \n",
       "4                 0  "
      ]
     },
     "execution_count": 7,
     "metadata": {},
     "output_type": "execute_result"
    }
   ],
   "source": [
    "# Safe to say that the majority of the available values will\n",
    "# not contribute much to the analysis, so columns can be discarted.\n",
    "\n",
    "# Cleaning data: Step 1\n",
    "# Dropping the 'Heart rate', 'Wake up', and 'Sleep Notes' columns\n",
    "\n",
    "df = df.drop(columns=['Heart rate', 'Wake up', 'Sleep Notes']) #, 'Activity (steps)'])\n",
    "\n",
    "df.head()"
   ]
  },
  {
   "cell_type": "code",
   "execution_count": 8,
   "metadata": {
    "colab": {
     "base_uri": "https://localhost:8080/",
     "height": 119
    },
    "colab_type": "code",
    "id": "XenaAQgrXMAZ",
    "outputId": "a137d316-ff5c-4a2d-87ca-1f369aaf0137"
   },
   "outputs": [
    {
     "data": {
      "text/plain": [
       "0    0.55\n",
       "1    0.77\n",
       "2    0.57\n",
       "3    0.35\n",
       "4    0.62\n",
       "Name: Sleep quality, dtype: float64"
      ]
     },
     "execution_count": 8,
     "metadata": {},
     "output_type": "execute_result"
    }
   ],
   "source": [
    "# Cleaning data: Step 2\n",
    "\n",
    "# Convert string percent values to floats\n",
    "\n",
    "df['Sleep quality'] = df['Sleep quality'].str.rstrip('%').astype('float') / 100\n",
    "df['Sleep quality'].head()"
   ]
  },
  {
   "cell_type": "code",
   "execution_count": 9,
   "metadata": {
    "colab": {
     "base_uri": "https://localhost:8080/",
     "height": 187
    },
    "colab_type": "code",
    "id": "I6_vZYPLZjQ_",
    "outputId": "7f891fc4-0d2b-489d-e5e0-ba11b8a890e5"
   },
   "outputs": [
    {
     "name": "stdout",
     "output_type": "stream",
     "text": [
      "<class 'pandas.core.frame.DataFrame'>\n",
      "RangeIndex: 599 entries, 0 to 598\n",
      "Data columns (total 5 columns):\n",
      " #   Column            Non-Null Count  Dtype  \n",
      "---  ------            --------------  -----  \n",
      " 0   Start             599 non-null    object \n",
      " 1   End               599 non-null    object \n",
      " 2   Sleep quality     599 non-null    float64\n",
      " 3   Time in bed       599 non-null    object \n",
      " 4   Activity (steps)  599 non-null    int64  \n",
      "dtypes: float64(1), int64(1), object(3)\n",
      "memory usage: 23.5+ KB\n"
     ]
    }
   ],
   "source": [
    "# 'Start' and 'End' remain as objects\n",
    "# Change to datetime\n",
    "\n",
    "df.info()"
   ]
  },
  {
   "cell_type": "code",
   "execution_count": 10,
   "metadata": {
    "colab": {
     "base_uri": "https://localhost:8080/",
     "height": 102
    },
    "colab_type": "code",
    "id": "LvbKu4MDsow8",
    "outputId": "c51b68ad-a9e9-4c50-e3d0-d70efcc3e2e5"
   },
   "outputs": [
    {
     "name": "stdout",
     "output_type": "stream",
     "text": [
      "Time in bed column: \n",
      "count      599\n",
      "unique     267\n",
      "top       5:46\n",
      "freq         7\n",
      "Name: Time in bed, dtype: object \n",
      "\n",
      "Start column: \n",
      "count                     599\n",
      "unique                    599\n",
      "top       2019-08-30 01:35:28\n",
      "freq                        1\n",
      "Name: Start, dtype: object\n"
     ]
    }
   ],
   "source": [
    "# Goal: break down 'Start' and 'End' features containing\n",
    "# days and times of the day\n",
    "\n",
    "# Looking to create a column of days from data contained in the 'Start' column\n",
    "\n",
    "print(f\"Time in bed column: \\n{df['Time in bed'].describe()} \\n\\nStart column: \\n{df['Start'].describe()}\")"
   ]
  },
  {
   "cell_type": "code",
   "execution_count": 11,
   "metadata": {
    "colab": {},
    "colab_type": "code",
    "id": "HU9pgAyJ-ZSe"
   },
   "outputs": [
    {
     "name": "stdout",
     "output_type": "stream",
     "text": [
      "Date: 2018-08-21 00:17:44 \n",
      "Weekday: Sunday \n",
      "Day of the week as int: 6\n"
     ]
    }
   ],
   "source": [
    "# Pandas documentation states 'dayofweek' starts with mon = 0\n",
    "# Test to find day of the week\n",
    "\n",
    "copy_1_date = pd.Timestamp(df['Start'][3])\n",
    "print(f\"Date: {df['Start'][0]} \\nWeekday: {copy_1_date.day_name()} \\nDay of the week as int: {copy_1_date.dayofweek}\")"
   ]
  },
  {
   "cell_type": "markdown",
   "metadata": {},
   "source": [
    "# Interesting features to explore further:\n",
    "- Reconstruct weekday column by running a for loop to make sure that the Start and End columns utilize the start day adequately. Reason for this is that some days the sleep time was past midnight, which implies that it is in fact using a misleading day of the week as start day.\n",
    "    - Example: If on a Saturday night, time to bed was past midnight, the data shows that the day to bed was Sunday.  This could be corrected using a for loop on the 'Start' column.\n",
    "    - Psudo code:\n",
    "\n",
    "```python\n",
    "for elem in range(len(column)):\n",
    "    if day_of_week == 0 and start.day_of_week == end.day_of_week::\n",
    "        change day to 6 (sunday)\n",
    "    elif start.day_of_week == end.day_of_week:\n",
    "        change start.day_of_week to previous day and append to new column of say of week.\n",
    "```\n",
    "\n",
    "## Analysis to be performed:\n",
    "- Here we can already see that we can break down the 'Start' and 'End' columns into multiple different parts.  These parts will help in analyzing the data.  We can see if there are statistical differences between days of the week, times to bed, or even incorporate a new dataset containing weather patters and phenomena to see if there are any correlations."
   ]
  },
  {
   "cell_type": "markdown",
   "metadata": {},
   "source": [
    "## Questions answered:\n",
    "1. ~Features available~\n",
    "2. ~What are the datatypes (they have been identified and are being changed as necesasry)~\n",
    "3. ~Null and NaN values have been dealt with~\n",
    "4. ~Steps to cleaning data have started~\n",
    " - ~one step that needs to be completed is creating a function to deal with accurate day of the night to bed.~\n",
    "5. ~The target feature here is `Sleep quality`~\n",
    "6. ~What are the stats to be used.~  (ANOVA)\n",
    "\n",
    "## Next steps: Feature engineering and stats\n",
    "- Exploring for-loop to apply"
   ]
  },
  {
   "cell_type": "code",
   "execution_count": 12,
   "metadata": {},
   "outputs": [
    {
     "name": "stdout",
     "output_type": "stream",
     "text": [
      "Start date test:\n",
      "0   2018-08-21 00:17:44\n",
      "1   2018-08-22 00:08:58\n",
      "2   2018-08-23 00:26:59\n",
      "Name: Start, dtype: datetime64[ns]\n",
      "\n",
      "End date test:\n",
      "0   2018-08-21 06:31:59\n",
      "1   2018-08-22 06:48:15\n",
      "2   2018-08-23 05:14:15\n",
      "Name: End, dtype: datetime64[ns]\n"
     ]
    }
   ],
   "source": [
    "# Step 1: change datatime for 'Start' and 'End' columns\n",
    "\n",
    "df['Start'] = pd.to_datetime(df['Start'], infer_datetime_format=True)\n",
    "df['End'] = pd.to_datetime(df['End'], infer_datetime_format=True)\n",
    "\n",
    "print(f\"Start date test:\\n{df['Start'].head(3)}\\n\\nEnd date test:\\n{df['End'].head(3)}\")"
   ]
  },
  {
   "cell_type": "code",
   "execution_count": 13,
   "metadata": {},
   "outputs": [],
   "source": [
    "# This cell will contain a for loop\n",
    "# that takes in the 'Start' and 'End' columns\n",
    "# to create a third column containing the accurate\n",
    "# day the person went to bed, and not the day in the\n",
    "# 'End' column.\n",
    "\n",
    "wkday_int = []\n",
    "\n",
    "for elem in range(len(df['Start'])):\n",
    "    if (df['Start'][elem].dayofweek == 0) and (df['Start'][elem].dayofweek == df['End'][elem].dayofweek):\n",
    "        wkday_int.append(6)\n",
    "    elif df['Start'][elem].dayofweek == df['End'][elem].dayofweek:\n",
    "        wkday_int.append(df['End'][elem].dayofweek - 1)\n",
    "    else:\n",
    "        wkday_int.append(df['Start'][elem].dayofweek)"
   ]
  },
  {
   "cell_type": "code",
   "execution_count": 14,
   "metadata": {},
   "outputs": [
    {
     "data": {
      "text/plain": [
       "(599, 1)"
      ]
     },
     "execution_count": 14,
     "metadata": {},
     "output_type": "execute_result"
    }
   ],
   "source": [
    "# looking at shape to make sure it aligns with the DF\n",
    "\n",
    "pd.DataFrame(wkday_int).shape"
   ]
  },
  {
   "cell_type": "code",
   "execution_count": 15,
   "metadata": {},
   "outputs": [],
   "source": [
    "# Incorporating wkday_int into dataframe\n",
    "\n",
    "df['Weekday to Bed (int)'] = pd.DataFrame(wkday_int)"
   ]
  },
  {
   "cell_type": "code",
   "execution_count": 16,
   "metadata": {},
   "outputs": [
    {
     "data": {
      "text/html": [
       "<div>\n",
       "<style scoped>\n",
       "    .dataframe tbody tr th:only-of-type {\n",
       "        vertical-align: middle;\n",
       "    }\n",
       "\n",
       "    .dataframe tbody tr th {\n",
       "        vertical-align: top;\n",
       "    }\n",
       "\n",
       "    .dataframe thead th {\n",
       "        text-align: right;\n",
       "    }\n",
       "</style>\n",
       "<table border=\"1\" class=\"dataframe\">\n",
       "  <thead>\n",
       "    <tr style=\"text-align: right;\">\n",
       "      <th></th>\n",
       "      <th>Start</th>\n",
       "      <th>End</th>\n",
       "      <th>Sleep quality</th>\n",
       "      <th>Time in bed</th>\n",
       "      <th>Activity (steps)</th>\n",
       "      <th>Weekday to Bed (int)</th>\n",
       "      <th>Weekday to bed (name)</th>\n",
       "    </tr>\n",
       "  </thead>\n",
       "  <tbody>\n",
       "    <tr>\n",
       "      <th>0</th>\n",
       "      <td>2018-08-21 00:17:44</td>\n",
       "      <td>2018-08-21 06:31:59</td>\n",
       "      <td>0.55</td>\n",
       "      <td>6:14</td>\n",
       "      <td>0</td>\n",
       "      <td>0</td>\n",
       "      <td>Monday</td>\n",
       "    </tr>\n",
       "    <tr>\n",
       "      <th>1</th>\n",
       "      <td>2018-08-22 00:08:58</td>\n",
       "      <td>2018-08-22 06:48:15</td>\n",
       "      <td>0.77</td>\n",
       "      <td>6:39</td>\n",
       "      <td>0</td>\n",
       "      <td>1</td>\n",
       "      <td>Tuesday</td>\n",
       "    </tr>\n",
       "    <tr>\n",
       "      <th>2</th>\n",
       "      <td>2018-08-23 00:26:59</td>\n",
       "      <td>2018-08-23 05:14:15</td>\n",
       "      <td>0.57</td>\n",
       "      <td>4:47</td>\n",
       "      <td>0</td>\n",
       "      <td>2</td>\n",
       "      <td>Wednesday</td>\n",
       "    </tr>\n",
       "    <tr>\n",
       "      <th>3</th>\n",
       "      <td>2018-08-26 02:22:35</td>\n",
       "      <td>2018-08-26 06:25:43</td>\n",
       "      <td>0.35</td>\n",
       "      <td>4:03</td>\n",
       "      <td>0</td>\n",
       "      <td>5</td>\n",
       "      <td>Saturday</td>\n",
       "    </tr>\n",
       "    <tr>\n",
       "      <th>4</th>\n",
       "      <td>2018-08-27 00:54:25</td>\n",
       "      <td>2018-08-27 08:24:27</td>\n",
       "      <td>0.62</td>\n",
       "      <td>7:30</td>\n",
       "      <td>0</td>\n",
       "      <td>6</td>\n",
       "      <td>Sunday</td>\n",
       "    </tr>\n",
       "  </tbody>\n",
       "</table>\n",
       "</div>"
      ],
      "text/plain": [
       "                Start                 End  Sleep quality Time in bed  \\\n",
       "0 2018-08-21 00:17:44 2018-08-21 06:31:59           0.55        6:14   \n",
       "1 2018-08-22 00:08:58 2018-08-22 06:48:15           0.77        6:39   \n",
       "2 2018-08-23 00:26:59 2018-08-23 05:14:15           0.57        4:47   \n",
       "3 2018-08-26 02:22:35 2018-08-26 06:25:43           0.35        4:03   \n",
       "4 2018-08-27 00:54:25 2018-08-27 08:24:27           0.62        7:30   \n",
       "\n",
       "   Activity (steps)  Weekday to Bed (int) Weekday to bed (name)  \n",
       "0                 0                     0                Monday  \n",
       "1                 0                     1               Tuesday  \n",
       "2                 0                     2             Wednesday  \n",
       "3                 0                     5              Saturday  \n",
       "4                 0                     6                Sunday  "
      ]
     },
     "execution_count": 16,
     "metadata": {},
     "output_type": "execute_result"
    }
   ],
   "source": [
    "# .map() method applied to df with 'Weekday categories' column\n",
    "\n",
    "d = {0: 'Monday', \n",
    "     1: 'Tuesday', \n",
    "     2: 'Wednesday', \n",
    "     3: 'Thursday', \n",
    "     4: 'Friday',\n",
    "     5: 'Saturday', \n",
    "     6: 'Sunday'}\n",
    "     \n",
    "df['Weekday to bed (name)'] = df['Weekday to Bed (int)'].map(d)\n",
    "df.head()"
   ]
  },
  {
   "cell_type": "code",
   "execution_count": 17,
   "metadata": {},
   "outputs": [
    {
     "data": {
      "image/png": "[encoded data removed]",
      "text/plain": [
       "<Figure size 432x288 with 1 Axes>"
      ]
     },
     "metadata": {
      "needs_background": "light"
     },
     "output_type": "display_data"
    }
   ],
   "source": [
    "# Consider taking the ratios of minutes and incorporating them back in\n",
    "# also consider doing the same with seconds\n",
    "\n",
    "start_hour = df['Start'].apply(lambda element: element.hour)\n",
    "start_min = df['Start'].apply(lambda element: element.minute)\n",
    "# print(start_min.describe(percentiles=[.5, .75]))\n",
    "\n",
    "# print(start_min.value_counts())\n",
    "\n",
    "\n",
    "\n",
    "plt.hist(start_hour)\n",
    "plt.show()"
   ]
  },
  {
   "cell_type": "code",
   "execution_count": 17,
   "metadata": {
    "colab": {},
    "colab_type": "code",
    "id": "2mKkxocQ7S78"
   },
   "outputs": [
    {
     "data": {
      "text/html": [
       "<div>\n",
       "<style scoped>\n",
       "    .dataframe tbody tr th:only-of-type {\n",
       "        vertical-align: middle;\n",
       "    }\n",
       "\n",
       "    .dataframe tbody tr th {\n",
       "        vertical-align: top;\n",
       "    }\n",
       "\n",
       "    .dataframe thead th {\n",
       "        text-align: right;\n",
       "    }\n",
       "</style>\n",
       "<table border=\"1\" class=\"dataframe\">\n",
       "  <thead>\n",
       "    <tr style=\"text-align: right;\">\n",
       "      <th></th>\n",
       "      <th>Start</th>\n",
       "      <th>End</th>\n",
       "      <th>Sleep quality</th>\n",
       "      <th>Time in bed</th>\n",
       "      <th>Activity (steps)</th>\n",
       "      <th>Weekday to Bed (int)</th>\n",
       "      <th>Weekday to bed (name)</th>\n",
       "    </tr>\n",
       "  </thead>\n",
       "  <tbody>\n",
       "    <tr>\n",
       "      <th>0</th>\n",
       "      <td>2018-08-21 00:17:44</td>\n",
       "      <td>2018-08-21 06:31:59</td>\n",
       "      <td>0.55</td>\n",
       "      <td>06:14:00</td>\n",
       "      <td>0</td>\n",
       "      <td>0</td>\n",
       "      <td>Monday</td>\n",
       "    </tr>\n",
       "    <tr>\n",
       "      <th>1</th>\n",
       "      <td>2018-08-22 00:08:58</td>\n",
       "      <td>2018-08-22 06:48:15</td>\n",
       "      <td>0.77</td>\n",
       "      <td>06:39:00</td>\n",
       "      <td>0</td>\n",
       "      <td>1</td>\n",
       "      <td>Tuesday</td>\n",
       "    </tr>\n",
       "    <tr>\n",
       "      <th>2</th>\n",
       "      <td>2018-08-23 00:26:59</td>\n",
       "      <td>2018-08-23 05:14:15</td>\n",
       "      <td>0.57</td>\n",
       "      <td>04:47:00</td>\n",
       "      <td>0</td>\n",
       "      <td>2</td>\n",
       "      <td>Wednesday</td>\n",
       "    </tr>\n",
       "    <tr>\n",
       "      <th>3</th>\n",
       "      <td>2018-08-26 02:22:35</td>\n",
       "      <td>2018-08-26 06:25:43</td>\n",
       "      <td>0.35</td>\n",
       "      <td>04:03:00</td>\n",
       "      <td>0</td>\n",
       "      <td>5</td>\n",
       "      <td>Saturday</td>\n",
       "    </tr>\n",
       "    <tr>\n",
       "      <th>4</th>\n",
       "      <td>2018-08-27 00:54:25</td>\n",
       "      <td>2018-08-27 08:24:27</td>\n",
       "      <td>0.62</td>\n",
       "      <td>07:30:00</td>\n",
       "      <td>0</td>\n",
       "      <td>6</td>\n",
       "      <td>Sunday</td>\n",
       "    </tr>\n",
       "  </tbody>\n",
       "</table>\n",
       "</div>"
      ],
      "text/plain": [
       "                Start                 End  Sleep quality Time in bed  \\\n",
       "0 2018-08-21 00:17:44 2018-08-21 06:31:59           0.55    06:14:00   \n",
       "1 2018-08-22 00:08:58 2018-08-22 06:48:15           0.77    06:39:00   \n",
       "2 2018-08-23 00:26:59 2018-08-23 05:14:15           0.57    04:47:00   \n",
       "3 2018-08-26 02:22:35 2018-08-26 06:25:43           0.35    04:03:00   \n",
       "4 2018-08-27 00:54:25 2018-08-27 08:24:27           0.62    07:30:00   \n",
       "\n",
       "   Activity (steps)  Weekday to Bed (int) Weekday to bed (name)  \n",
       "0                 0                     0                Monday  \n",
       "1                 0                     1               Tuesday  \n",
       "2                 0                     2             Wednesday  \n",
       "3                 0                     5              Saturday  \n",
       "4                 0                     6                Sunday  "
      ]
     },
     "execution_count": 17,
     "metadata": {},
     "output_type": "execute_result"
    }
   ],
   "source": [
    "# Changing dtype for 'Time in bed' column with a today's time stamp; for further cleaning\n",
    "# Formatted to only include the time.\n",
    "\n",
    "df['Time in bed'] = pd.to_datetime(df['Time in bed']).dt.time\n",
    "df.head()"
   ]
  },
  {
   "cell_type": "code",
   "execution_count": 19,
   "metadata": {},
   "outputs": [
    {
     "name": "stdout",
     "output_type": "stream",
     "text": [
      "2018-08-21\n",
      "2018-08-20\n"
     ]
    }
   ],
   "source": [
    "# Checking to see if timedelta can be applied to .date() method\n",
    "# so that we can create a column 'Date' containing the accurate \n",
    "# dates the person went to bed.\n",
    "\n",
    "print(df['Start'][0].date())\n",
    "print(df['Start'][0].date() - timedelta(days=1))\n",
    "# df.info()"
   ]
  },
  {
   "cell_type": "code",
   "execution_count": 18,
   "metadata": {
    "colab": {
     "base_uri": "https://localhost:8080/",
     "height": 221
    },
    "colab_type": "code",
    "id": "EnmG9iQxMXAN",
    "outputId": "3de61ad2-0fee-4a2c-8472-1232c1db5f1b"
   },
   "outputs": [
    {
     "data": {
      "text/html": [
       "<div>\n",
       "<style scoped>\n",
       "    .dataframe tbody tr th:only-of-type {\n",
       "        vertical-align: middle;\n",
       "    }\n",
       "\n",
       "    .dataframe tbody tr th {\n",
       "        vertical-align: top;\n",
       "    }\n",
       "\n",
       "    .dataframe thead th {\n",
       "        text-align: right;\n",
       "    }\n",
       "</style>\n",
       "<table border=\"1\" class=\"dataframe\">\n",
       "  <thead>\n",
       "    <tr style=\"text-align: right;\">\n",
       "      <th></th>\n",
       "      <th>Start</th>\n",
       "      <th>End</th>\n",
       "      <th>Sleep quality</th>\n",
       "      <th>Time in bed</th>\n",
       "      <th>Activity (steps)</th>\n",
       "      <th>Weekday to Bed (int)</th>\n",
       "      <th>Weekday to bed (name)</th>\n",
       "      <th>Date to bed</th>\n",
       "    </tr>\n",
       "  </thead>\n",
       "  <tbody>\n",
       "    <tr>\n",
       "      <th>0</th>\n",
       "      <td>2018-08-21 00:17:44</td>\n",
       "      <td>2018-08-21 06:31:59</td>\n",
       "      <td>0.55</td>\n",
       "      <td>06:14:00</td>\n",
       "      <td>0</td>\n",
       "      <td>0</td>\n",
       "      <td>Monday</td>\n",
       "      <td>2018-08-20</td>\n",
       "    </tr>\n",
       "    <tr>\n",
       "      <th>1</th>\n",
       "      <td>2018-08-22 00:08:58</td>\n",
       "      <td>2018-08-22 06:48:15</td>\n",
       "      <td>0.77</td>\n",
       "      <td>06:39:00</td>\n",
       "      <td>0</td>\n",
       "      <td>1</td>\n",
       "      <td>Tuesday</td>\n",
       "      <td>2018-08-21</td>\n",
       "    </tr>\n",
       "    <tr>\n",
       "      <th>2</th>\n",
       "      <td>2018-08-23 00:26:59</td>\n",
       "      <td>2018-08-23 05:14:15</td>\n",
       "      <td>0.57</td>\n",
       "      <td>04:47:00</td>\n",
       "      <td>0</td>\n",
       "      <td>2</td>\n",
       "      <td>Wednesday</td>\n",
       "      <td>2018-08-22</td>\n",
       "    </tr>\n",
       "  </tbody>\n",
       "</table>\n",
       "</div>"
      ],
      "text/plain": [
       "                Start                 End  Sleep quality Time in bed  \\\n",
       "0 2018-08-21 00:17:44 2018-08-21 06:31:59           0.55    06:14:00   \n",
       "1 2018-08-22 00:08:58 2018-08-22 06:48:15           0.77    06:39:00   \n",
       "2 2018-08-23 00:26:59 2018-08-23 05:14:15           0.57    04:47:00   \n",
       "\n",
       "   Activity (steps)  Weekday to Bed (int) Weekday to bed (name) Date to bed  \n",
       "0                 0                     0                Monday  2018-08-20  \n",
       "1                 0                     1               Tuesday  2018-08-21  \n",
       "2                 0                     2             Wednesday  2018-08-22  "
      ]
     },
     "execution_count": 18,
     "metadata": {},
     "output_type": "execute_result"
    }
   ],
   "source": [
    "# Creating a column containg the dates, and then creating a column cointaning\n",
    "# time to bed, and time to rise\n",
    "\n",
    "'''\n",
    "To add this new 'Date' column applied the loop that was previously implemented to create\n",
    "the 'Weekday (int)', and 'Weekday to bed (name)', but instead use the .dt.date method\n",
    "'''\n",
    "\n",
    "date_lst = []\n",
    "\n",
    "for elem in range(len(df['Start'])):\n",
    "    if df['Start'][elem].date() == df['End'][elem].date():\n",
    "        date_lst.append(df['Start'][elem].date() - timedelta(days=1))\n",
    "    else:\n",
    "        date_lst.append(df['Start'][elem].date())\n",
    "\n",
    "df['Date to bed'] = date_lst\n",
    "df.head(3)"
   ]
  },
  {
   "cell_type": "code",
   "execution_count": 41,
   "metadata": {
    "colab": {},
    "colab_type": "code",
    "id": "OrrQnooLrpkO"
   },
   "outputs": [],
   "source": [
    "# we need categorical variable to do a Chi**2 test\n",
    "\n",
    "\n",
    "cut_points = [0, .80, 1]\n",
    "\n",
    "label_names = ['< 80%',\n",
    "               '≥ 80%']\n",
    "               \n",
    "df['Sleep Quality Categories'] = pd.cut(df['Sleep quality'], cut_points, labels=label_names)\n"
   ]
  },
  {
   "cell_type": "code",
   "execution_count": 20,
   "metadata": {
    "colab": {
     "base_uri": "https://localhost:8080/",
     "height": 606
    },
    "colab_type": "code",
    "id": "yJNSOXonR_Nt",
    "outputId": "1a9f47bd-a7e2-46e7-b838-79de86dc7a7a"
   },
   "outputs": [
    {
     "data": {
      "text/plain": [
       "\"\\n'Wake up' and 'Slep Notes' columns are no longer a part of the\\nDataFrame, hence this cell is irrelevant.\\n\""
      ]
     },
     "execution_count": 20,
     "metadata": {},
     "output_type": "execute_result"
    }
   ],
   "source": [
    "# New Dataframe excluding the 'Wake up' and 'Sleep Notes' column\n",
    "\n",
    "'''\n",
    "'Wake up' and 'Slep Notes' columns are no longer a part of the\n",
    "DataFrame, hence this cell is irrelevant.\n",
    "'''\n",
    "\n",
    "# new_df = df[['Start', \n",
    "#              'End', \n",
    "#              'Sleep quality', \n",
    "#              'Time in bed',\n",
    "#              'Activity (steps)', \n",
    "#              'Weekday', \n",
    "#              'Date', \n",
    "#              'Sleep Quality Categories',\n",
    "#              'Weekday categories']]\n",
    "\n",
    "# new_df.head()"
   ]
  },
  {
   "cell_type": "code",
   "execution_count": 21,
   "metadata": {
    "colab": {
     "base_uri": "https://localhost:8080/",
     "height": 221
    },
    "colab_type": "code",
    "id": "zKCFPoRYwLa4",
    "outputId": "786c5e04-0ac9-4f03-ebc6-4e47adf83c84"
   },
   "outputs": [
    {
     "data": {
      "text/plain": [
       "count            599\n",
       "unique           557\n",
       "top       2018-10-04\n",
       "freq               3\n",
       "Name: Date to bed, dtype: object"
      ]
     },
     "execution_count": 21,
     "metadata": {},
     "output_type": "execute_result"
    }
   ],
   "source": [
    "'''\n",
    "Previously, 'Date' (now renamed ['Date to bed']) contained duplicate \n",
    "values, but now that should've been minimized given the for loop applied\n",
    "'''\n",
    "\n",
    "df['Date to bed'].describe()\n",
    "\n",
    "# new_df['Date'] = pd.DataFrame(new_df['Date'].drop_duplicates(keep='first'))\n",
    "# new_df['Date']"
   ]
  },
  {
   "cell_type": "code",
   "execution_count": 22,
   "metadata": {},
   "outputs": [
    {
     "data": {
      "text/plain": [
       "0      2018-08-20\n",
       "1      2018-08-21\n",
       "2      2018-08-22\n",
       "3      2018-08-25\n",
       "4      2018-08-26\n",
       "          ...    \n",
       "594    2020-06-17\n",
       "595    2020-06-18\n",
       "596           NaN\n",
       "597    2020-06-19\n",
       "598    2020-06-20\n",
       "Name: Date to bed, Length: 599, dtype: object"
      ]
     },
     "execution_count": 22,
     "metadata": {},
     "output_type": "execute_result"
    }
   ],
   "source": [
    "# Some duplicate values still exist;\n",
    "# removing duplicate values from the 'Date to bed' column\n",
    "# approximately ~40 rows contain duplicate 'Date to bed' values\n",
    "\n",
    "df['Date to bed'] = df['Date to bed'].drop_duplicates(keep='first')\n",
    "df['Date to bed']"
   ]
  },
  {
   "cell_type": "code",
   "execution_count": 23,
   "metadata": {},
   "outputs": [
    {
     "data": {
      "text/plain": [
       "False    557\n",
       "Name: Date to bed, dtype: int64"
      ]
     },
     "execution_count": 23,
     "metadata": {},
     "output_type": "execute_result"
    }
   ],
   "source": [
    "# dropping NaN values as well\n",
    "\n",
    "df.dropna(subset=['Date to bed'], inplace=True)\n",
    "df['Date to bed'].isnull().value_counts()"
   ]
  },
  {
   "cell_type": "markdown",
   "metadata": {},
   "source": [
    "### Left off here:  Omitted the change in df naming, and moving forward with analysis etc.\n",
    "- data cleaning is near complete, next step is to perform stats analysis (ANOVA)"
   ]
  },
  {
   "cell_type": "code",
   "execution_count": 25,
   "metadata": {
    "colab": {
     "base_uri": "https://localhost:8080/",
     "height": 34
    },
    "colab_type": "code",
    "id": "pwc1osg6YdG_",
    "outputId": "09ea4263-9c3e-468d-adaf-474f28e1022d"
   },
   "outputs": [
    {
     "data": {
      "text/plain": [
       "datetime.date"
      ]
     },
     "execution_count": 25,
     "metadata": {},
     "output_type": "execute_result"
    }
   ],
   "source": [
    "# looking at the element type in the column 'Date'\n",
    "\n",
    "type(df['Date to bed'][0])"
   ]
  },
  {
   "cell_type": "code",
   "execution_count": 26,
   "metadata": {
    "colab": {
     "base_uri": "https://localhost:8080/",
     "height": 221
    },
    "colab_type": "code",
    "id": "_c4Trvfn-_tG",
    "outputId": "14d1736b-a537-4cea-d613-0043d6063a0c"
   },
   "outputs": [
    {
     "data": {
      "text/plain": [
       "0      6.23\n",
       "1      6.65\n",
       "2      4.78\n",
       "3      4.05\n",
       "4      7.50\n",
       "       ... \n",
       "593    5.40\n",
       "594    7.52\n",
       "595    0.80\n",
       "597    5.52\n",
       "598    6.52\n",
       "Name: Time in bed, Length: 557, dtype: float64"
      ]
     },
     "execution_count": 26,
     "metadata": {},
     "output_type": "execute_result"
    }
   ],
   "source": [
    "# running a for loop to change the hour and minute values in the 'Time in bed'\n",
    "# column into float types for analysis\n",
    "\n",
    "sleep_duration = []\n",
    "for i in df['Time in bed']:\n",
    "    sleep_duration.append(round((float(i.minute)/60) + (float(i.hour)),2))\n",
    "\n",
    "df['Time in bed'] = np.array(sleep_duration)\n",
    "df['Time in bed']"
   ]
  },
  {
   "cell_type": "code",
   "execution_count": 28,
   "metadata": {
    "colab": {
     "base_uri": "https://localhost:8080/",
     "height": 153
    },
    "colab_type": "code",
    "id": "yHFyKf67TjFM",
    "outputId": "898ba6c8-3e41-4772-eac9-4df2c2f49ca4"
   },
   "outputs": [
    {
     "data": {
      "text/plain": [
       "1    89\n",
       "3    87\n",
       "0    87\n",
       "2    86\n",
       "6    73\n",
       "4    68\n",
       "5    67\n",
       "Name: Weekday to Bed (int), dtype: int64"
      ]
     },
     "execution_count": 28,
     "metadata": {},
     "output_type": "execute_result"
    }
   ],
   "source": [
    "\n",
    "df['Weekday to Bed (int)'].value_counts()"
   ]
  },
  {
   "cell_type": "code",
   "execution_count": 42,
   "metadata": {
    "colab": {
     "base_uri": "https://localhost:8080/",
     "height": 297
    },
    "colab_type": "code",
    "id": "J4qOPZjqlzoV",
    "outputId": "401614c3-ec38-4ac6-a521-1446e7fa0feb"
   },
   "outputs": [
    {
     "data": {
      "text/html": [
       "<div>\n",
       "<style scoped>\n",
       "    .dataframe tbody tr th:only-of-type {\n",
       "        vertical-align: middle;\n",
       "    }\n",
       "\n",
       "    .dataframe tbody tr th {\n",
       "        vertical-align: top;\n",
       "    }\n",
       "\n",
       "    .dataframe thead th {\n",
       "        text-align: right;\n",
       "    }\n",
       "</style>\n",
       "<table border=\"1\" class=\"dataframe\">\n",
       "  <thead>\n",
       "    <tr style=\"text-align: right;\">\n",
       "      <th>Weekday to bed (name)</th>\n",
       "      <th>Friday</th>\n",
       "      <th>Monday</th>\n",
       "      <th>Saturday</th>\n",
       "      <th>Sunday</th>\n",
       "      <th>Thursday</th>\n",
       "      <th>Tuesday</th>\n",
       "      <th>Wednesday</th>\n",
       "    </tr>\n",
       "    <tr>\n",
       "      <th>Sleep Quality Categories</th>\n",
       "      <th></th>\n",
       "      <th></th>\n",
       "      <th></th>\n",
       "      <th></th>\n",
       "      <th></th>\n",
       "      <th></th>\n",
       "      <th></th>\n",
       "    </tr>\n",
       "  </thead>\n",
       "  <tbody>\n",
       "    <tr>\n",
       "      <th>&lt; 80%</th>\n",
       "      <td>61</td>\n",
       "      <td>86</td>\n",
       "      <td>66</td>\n",
       "      <td>69</td>\n",
       "      <td>86</td>\n",
       "      <td>89</td>\n",
       "      <td>85</td>\n",
       "    </tr>\n",
       "    <tr>\n",
       "      <th>≥ 80%</th>\n",
       "      <td>6</td>\n",
       "      <td>1</td>\n",
       "      <td>0</td>\n",
       "      <td>2</td>\n",
       "      <td>1</td>\n",
       "      <td>0</td>\n",
       "      <td>0</td>\n",
       "    </tr>\n",
       "  </tbody>\n",
       "</table>\n",
       "</div>"
      ],
      "text/plain": [
       "Weekday to bed (name)     Friday  Monday  Saturday  Sunday  Thursday  Tuesday  \\\n",
       "Sleep Quality Categories                                                        \n",
       "< 80%                         61      86        66      69        86       89   \n",
       "≥ 80%                          6       1         0       2         1        0   \n",
       "\n",
       "Weekday to bed (name)     Wednesday  \n",
       "Sleep Quality Categories             \n",
       "< 80%                            85  \n",
       "≥ 80%                             0  "
      ]
     },
     "execution_count": 42,
     "metadata": {},
     "output_type": "execute_result"
    }
   ],
   "source": [
    "# Creating a contingency table of observed values from\n",
    "# 'Weekday to bed (name)' and 'Sleep Quality Categories' columns\n",
    "\n",
    "df['Weekday to bed (name)'].value_counts()\n",
    "\n",
    "observed = pd.crosstab(df['Sleep Quality Categories'], df['Weekday to bed (name)'])\n",
    "\n",
    "observed"
   ]
  },
  {
   "cell_type": "code",
   "execution_count": 43,
   "metadata": {
    "colab": {
     "base_uri": "https://localhost:8080/",
     "height": 255
    },
    "colab_type": "code",
    "id": "6yb3Zr9RpIPa",
    "outputId": "07d87c7c-9bf3-4db4-9423-a79ab9220111"
   },
   "outputs": [
    {
     "name": "stdout",
     "output_type": "stream",
     "text": [
      "Chi-Squared: 24.48204140759957 \n",
      "\n",
      "P-value: 0.00042567215220116214 \n",
      "\n",
      "Degrees of Freedom: 6 \n",
      "\n",
      "Expected: \n",
      " [[65.78623188 85.42391304 64.80434783 69.71376812 85.42391304 87.38768116\n",
      "  83.46014493]\n",
      " [ 1.21376812  1.57608696  1.19565217  1.28623188  1.57608696  1.61231884\n",
      "   1.53985507]]\n"
     ]
    }
   ],
   "source": [
    "# Test for independence: Is there a relationship between day of the week\n",
    "# and quality of sleep\n",
    "\n",
    "# Null Hypothesis:  There is no relationship between day of the week and\n",
    "# quality of sleep\n",
    "\n",
    "\n",
    "# A p-value result of  <.05 allows us to reject the Null Hypothesis; thus\n",
    "# we can say that there is a relationship between day of the week and\n",
    "# quality of sleep\n",
    "\n",
    "chi_squared, p_value, dof, expected = stats.chi2_contingency(observed)\n",
    "\n",
    "print(f'Chi-Squared: {chi_squared}', '\\n')\n",
    "print(f'P-value: {p_value}', '\\n')\n",
    "print(f'Degrees of Freedom: {dof}', '\\n')\n",
    "print('Expected: \\n', np.array(expected))"
   ]
  },
  {
   "cell_type": "code",
   "execution_count": 44,
   "metadata": {
    "colab": {
     "base_uri": "https://localhost:8080/",
     "height": 34
    },
    "colab_type": "code",
    "id": "rwgJlWczu5vi",
    "outputId": "ba78d5e8-5487-46b7-cedf-6a8ff6a3d0fc"
   },
   "outputs": [
    {
     "name": "stdout",
     "output_type": "stream",
     "text": [
      "P-value from chi^2 statistic: 0.00042567215220116214\n"
     ]
    }
   ],
   "source": [
    "# The p-value and chi-squared value tell us \n",
    "\n",
    "print('P-value from chi^2 statistic:', chi2.sf(chi_squared, 6))"
   ]
  },
  {
   "cell_type": "code",
   "execution_count": null,
   "metadata": {},
   "outputs": [],
   "source": []
  },
  {
   "cell_type": "code",
   "execution_count": 37,
   "metadata": {
    "colab": {},
    "colab_type": "code",
    "id": "w5y4qMkxxVTJ"
   },
   "outputs": [],
   "source": [
    "# Taking counts for plotting\n",
    "\n",
    "Friday = observed.iloc[0][0:].values\n",
    "Monday = observed.iloc[1][0:].values\n",
    "Saturday = observed.iloc[2][0:].values\n",
    "Sunday = observed.iloc[3][0:].values\n",
    "Thursday = observed.iloc[4][0:].values\n",
    "Tuesday = observed.iloc[5][0:].values\n",
    "Wednesday = observed.iloc[5][0:].values\n"
   ]
  },
  {
   "cell_type": "code",
   "execution_count": 38,
   "metadata": {
    "colab": {
     "base_uri": "https://localhost:8080/",
     "height": 389
    },
    "colab_type": "code",
    "id": "ZOoHcXOv1aCQ",
    "outputId": "7d41cacb-5e03-4f18-e41e-61d37fd1f3fb"
   },
   "outputs": [
    {
     "data": {
      "image/png": "[encoded data removed]",
      "text/plain": [
       "<Figure size 936x360 with 1 Axes>"
      ]
     },
     "metadata": {
      "needs_background": "light"
     },
     "output_type": "display_data"
    }
   ],
   "source": [
    "labels = ['0% - 30%', '31% - 60%', '>61%']\n",
    "Friday = observed.iloc[0][0:].values\n",
    "Monday = observed.iloc[1][0:].values\n",
    "Saturday = observed.iloc[2][0:].values\n",
    "Sunday = observed.iloc[3][0:].values\n",
    "Thursday = observed.iloc[4][0:].values\n",
    "Tuesday = observed.iloc[5][0:].values\n",
    "Wednesday = observed.iloc[5][0:].values\n",
    "\n",
    "x = np.arange(len(labels))  # the label locations\n",
    "width = 0.08  # the width of the bars\n",
    "\n",
    "fig, ax = plt.subplots(figsize=(13,5))\n",
    "rects1 = ax.bar(x - width*3.002, \n",
    "                Monday, \n",
    "                .1, \n",
    "                label='Monday', \n",
    "                color='black',\n",
    "                alpha=.8)\n",
    "rects2 = ax.bar(x - width*1.7, \n",
    "                Tuesday, \n",
    "                .1, \n",
    "                label='Tuesday', \n",
    "                color='black',\n",
    "                alpha=.5)\n",
    "rects3 = ax.bar(x - width*.39, \n",
    "                Wednesday, \n",
    "                .1, \n",
    "                label='Wednesday', \n",
    "                color='black',\n",
    "                alpha=.2)\n",
    "rects4 = ax.bar(x + width*.96, \n",
    "                Thursday, \n",
    "                .1, \n",
    "                label='Thursday', \n",
    "                color='black',\n",
    "                alpha=.1)\n",
    "rects5 = ax.bar(x + width*2.31, \n",
    "                Friday, \n",
    "                .1, \n",
    "                label='Friday', \n",
    "                color='red',\n",
    "                alpha=.1)\n",
    "rects6 = ax.bar(x + width*3.665, \n",
    "                Saturday, \n",
    "                .1, \n",
    "                label='Saturday', \n",
    "                color='red',\n",
    "                alpha=.3)\n",
    "rects7 = ax.bar(x + width*5, \n",
    "                Sunday, \n",
    "                .1, \n",
    "                label='Sunday', \n",
    "                color='red',\n",
    "                alpha=.6)\n",
    "\n",
    "\n",
    "# Add some text for labels, title and custom x-axis tick labels, etc.\n",
    "ax.set_ylabel('Scores')\n",
    "ax.set_title('Sleep Quality Affected by Day of the Week', \n",
    "             size=25, \n",
    "             y=1.05)\n",
    "\n",
    "ax.set_xticks(x)\n",
    "ax.set_xticklabels(labels)\n",
    "ax.legend()\n",
    "ax.set_ylim(0, 55)\n",
    "\n",
    "\n",
    "\n",
    "def autolabel(rects):\n",
    "    \"\"\"Attach a text label above each bar in *rects*, displaying its height.\"\"\"\n",
    "    for rect in rects:\n",
    "        height = rect.get_height()\n",
    "        ax.annotate('{}'.format(height),\n",
    "                    xy=(rect.get_x() + rect.get_width() / 2, height),\n",
    "                    xytext=(0, 3),  # 3 points vertical offset\n",
    "                    textcoords=\"offset points\",\n",
    "                    ha='center', \n",
    "                    va='bottom', \n",
    "                    size=12)\n",
    "\n",
    "\n",
    "autolabel(rects1)\n",
    "autolabel(rects2)\n",
    "autolabel(rects3)\n",
    "autolabel(rects4)\n",
    "autolabel(rects5)\n",
    "autolabel(rects6)\n",
    "autolabel(rects7)\n",
    "\n",
    "\n",
    "# consider doing a dist plot or scatter plot with the given parameters as a next step\n",
    "# also, look into a violoin plot; plotly for the following \n",
    "\n",
    "fig.tight_layout()\n",
    "plt.xlabel('Quality of Sleep', size=15)\n",
    "plt.ylabel('Counts', size=15)\n",
    "plt.show() "
   ]
  },
  {
   "cell_type": "code",
   "execution_count": 40,
   "metadata": {
    "colab": {
     "base_uri": "https://localhost:8080/",
     "height": 1000
    },
    "colab_type": "code",
    "id": "jxvOGOpnBBMQ",
    "outputId": "8bbadaf2-dd47-46fc-916c-583e20137094"
   },
   "outputs": [
    {
     "ename": "ModuleNotFoundError",
     "evalue": "No module named 'plotly'",
     "output_type": "error",
     "traceback": [
      "\u001b[0;31m---------------------------------------------------------------------------\u001b[0m",
      "\u001b[0;31mModuleNotFoundError\u001b[0m                       Traceback (most recent call last)",
      "\u001b[0;32m<ipython-input-40-dcbb0734338d>\u001b[0m in \u001b[0;36m<module>\u001b[0;34m\u001b[0m\n\u001b[0;32m----> 1\u001b[0;31m \u001b[0;32mimport\u001b[0m \u001b[0mplotly\u001b[0m\u001b[0;34m\u001b[0m\u001b[0;34m\u001b[0m\u001b[0m\n\u001b[0m\u001b[1;32m      2\u001b[0m \u001b[0;32mimport\u001b[0m \u001b[0mplotly\u001b[0m\u001b[0;34m.\u001b[0m\u001b[0mexpress\u001b[0m \u001b[0;32mas\u001b[0m \u001b[0mpx\u001b[0m\u001b[0;34m\u001b[0m\u001b[0;34m\u001b[0m\u001b[0m\n\u001b[1;32m      3\u001b[0m \u001b[0mdata\u001b[0m \u001b[0;34m=\u001b[0m \u001b[0mpx\u001b[0m\u001b[0;34m.\u001b[0m\u001b[0mdata\u001b[0m\u001b[0;34m.\u001b[0m\u001b[0mgapminder\u001b[0m\u001b[0;34m(\u001b[0m\u001b[0;34m)\u001b[0m\u001b[0;34m\u001b[0m\u001b[0;34m\u001b[0m\u001b[0m\n\u001b[1;32m      4\u001b[0m \u001b[0;34m\u001b[0m\u001b[0m\n\u001b[1;32m      5\u001b[0m \u001b[0;31m# new_df = px.data.data(new_df)\u001b[0m\u001b[0;34m\u001b[0m\u001b[0;34m\u001b[0m\u001b[0;34m\u001b[0m\u001b[0m\n",
      "\u001b[0;31mModuleNotFoundError\u001b[0m: No module named 'plotly'"
     ]
    }
   ],
   "source": [
    "data = px.data.gapminder()\n",
    "\n",
    "# new_df = px.data.data(new_df)\n",
    "sleep_quality_hist = px.histogram(new_df, \n",
    "                                  x='Sleep quality',\n",
    "                                  #  histnorm='percent',\n",
    "                                  histnorm='probability density',\n",
    "                                  #  nbins=0,\n",
    "                                  #  range_x=(0, .3)),\n",
    "                                  # marginal='rug',\n",
    "                                  nbins=47,\n",
    "                                  title='Sleep Quality Distribtion',\n",
    "                                  labels={'Sleep quality': 'Sleep Quality Distribution'})\n",
    "\n",
    "# Bar plot: average time asleep, \n",
    "\n",
    "avg_tbed = go.Figure()\n",
    "\n",
    "avg_tbed.add_trace(go.Box(y=new_df['Time in bed'], \n",
    "                          name='Time Asleep',   \n",
    "                          marker_color='royalblue',    \n",
    "                          boxmean='sd',\n",
    "                          boxpoints='all', # represent mean and standard deviation\n",
    "                          notched=True,), )\n",
    "avg_tbed.update_layout(title_text='Time Asleep (h) Statistics')\n",
    "\n",
    "\n",
    "timbd_v_qual = px.bar(new_df, \n",
    "                      x='Sleep quality', \n",
    "                      y='Time in bed',\n",
    "                      hover_data=['Sleep quality'], \n",
    "                      color='Sleep quality',\n",
    "                      labels={'Time in bed' : 'Time Asleep (h)',\n",
    "                              'Sleep quality': 'Quality of Sleep'}, \n",
    "                      height=400,\n",
    "                      title='Sample Distribution: Sleep Quality and Time Asleep as it Relates to Activity')\n",
    "\n",
    "act_v_qual = px.bar(new_df, \n",
    "                    x='Sleep quality', \n",
    "                    y='Activity (steps)',\n",
    "                    hover_data=['Sleep quality', 'Time in bed'], \n",
    "                    color='Time in bed',\n",
    "                    labels={'Sleep quality': 'Quality of Sleep Distribution',\n",
    "                            'Activity (steps)': 'Activity (steps)'}, \n",
    "                    height=400,\n",
    "                    title='Sample Distribution: Sleep Quality as it Relates to Time Asleep')\n",
    "\n",
    "\n",
    "# data = px.data.ne \n",
    "qual_v_wkdy = px.box(new_df, \n",
    "                     x='Weekday categories',\n",
    "                     y='Sleep quality',\n",
    "                     #  range_y=(0, .4), \n",
    "                     points='suspectedoutliers', \n",
    "                     category_orders={'Weekday categories':\n",
    "                                      ['Monday', 'Tuesday', 'Wednesday', \n",
    "                                       'Thursday', 'Friday', 'Saturday', \n",
    "                                       'Sunday']},\n",
    "                     notched=True,\n",
    "                     title='Sleep Quality Throughout the Week',\n",
    "                     labels={'Weekday categories': 'Day of the Week',})\n",
    "\n",
    "\n",
    "sleep_quality_hist.show()\n",
    "avg_tbed.show()\n",
    "qual_v_wkdy.show()\n",
    "timbd_v_qual.show()\n",
    "act_v_qual.show()"
   ]
  },
  {
   "cell_type": "code",
   "execution_count": null,
   "metadata": {
    "colab": {
     "base_uri": "https://localhost:8080/",
     "height": 617
    },
    "colab_type": "code",
    "id": "9ho5kbzC9nVF",
    "outputId": "987d5d30-fa46-427c-fbd3-9cd56c897a1b"
   },
   "outputs": [],
   "source": [
    "IFrame(src= \"https://dash-simple-apps.plotly.host/dash-boxplot/code\", \n",
    "       width=\"100%\", \n",
    "       height=500, \n",
    "       frameBorder=\"0\")\n",
    "\n",
    "# data = px.data.ne \n",
    "qual_v_wkdy = px.box(new_df, \n",
    "                     x='Weekday categories',\n",
    "                     y='Sleep quality',\n",
    "                     #  range_y=(0, .4), \n",
    "                     points='suspectedoutliers', \n",
    "                     category_orders={'Weekday categories':\n",
    "                                      ['Monday', 'Tuesday', 'Wednesday', \n",
    "                                       'Thursday', 'Friday', 'Saturday', \n",
    "                                       'Sunday']},\n",
    "                     notched=True)\n",
    "qual_v_wkdy.show()"
   ]
  },
  {
   "cell_type": "code",
   "execution_count": null,
   "metadata": {
    "colab": {
     "base_uri": "https://localhost:8080/",
     "height": 306
    },
    "colab_type": "code",
    "id": "uuhbJV0FbLB8",
    "outputId": "8b45551b-428c-49d0-e9e1-4088ffac9e3a"
   },
   "outputs": [],
   "source": [
    "new_df.head()"
   ]
  },
  {
   "cell_type": "code",
   "execution_count": null,
   "metadata": {
    "colab": {
     "base_uri": "https://localhost:8080/",
     "height": 306
    },
    "colab_type": "code",
    "id": "OfXhuuXCfj5y",
    "outputId": "2adb3237-21da-40a0-f70c-480bfa60a4e2"
   },
   "outputs": [],
   "source": [
    "new_df.head()"
   ]
  },
  {
   "cell_type": "code",
   "execution_count": null,
   "metadata": {
    "colab": {
     "base_uri": "https://localhost:8080/",
     "height": 323
    },
    "colab_type": "code",
    "id": "B4804JkOtB0p",
    "outputId": "6fdc41c4-98fe-4077-a1fb-418bc035ce9e"
   },
   "outputs": [],
   "source": [
    "\n",
    "new_df['Start by hour'] = pd.to_datetime(df['Start'],\n",
    "                                         infer_datetime_format=True)\n",
    "\n",
    "new_df['Start by hour'] = np.array(new_df['Start by hour'], \n",
    "                                   dtype=np.datetime64)\n",
    "\n",
    "new_df['Start by hour'] = new_df['Start by hour'].dt.hour\n",
    "\n",
    "new_df['End by hour'] = pd.to_datetime(df['End'],\n",
    "                                       infer_datetime_format=True)\n",
    "\n",
    "new_df['End by hour'] = np.array(new_df['End by hour'], \n",
    "                                 dtype=np.datetime64)\n",
    "\n",
    "new_df['End by hour'] = new_df['End by hour'].dt.hour\n",
    "\n",
    "new_df['Start by week'] = pd.to_datetime(df['Start'],\n",
    "                                         infer_datetime_format=True)\n",
    "\n",
    "new_df['Start by week'] = np.array(new_df['Start by week'], \n",
    "                                   dtype=np.datetime64)\n",
    "\n",
    "new_df['Start by week'] = new_df['Start by week'].dt.week\n",
    "\n",
    "new_df.head()"
   ]
  },
  {
   "cell_type": "code",
   "execution_count": null,
   "metadata": {
    "colab": {
     "base_uri": "https://localhost:8080/",
     "height": 221
    },
    "colab_type": "code",
    "id": "Pe0D6WBmtlYM",
    "outputId": "1de5790e-f9c5-4534-b81a-26d72420d812"
   },
   "outputs": [],
   "source": [
    "new_df['Start by hour'].value_counts()"
   ]
  },
  {
   "cell_type": "code",
   "execution_count": null,
   "metadata": {
    "colab": {
     "base_uri": "https://localhost:8080/",
     "height": 1000
    },
    "colab_type": "code",
    "id": "Rp1KkN5Bj6S4",
    "outputId": "6649e975-4ce3-44de-e9a2-0f4bee776270"
   },
   "outputs": [],
   "source": [
    "# Scatter plot of the time i go to sleep/wake\n",
    "\n",
    "\n",
    "# import plotly.express as px\n",
    "# # iris = px.data.new_df() # iris is a pandas DataFrame\n",
    "# fig = px.scatter(new_df, x='Start by hour', y='Sleep quality')\n",
    "# fig.show()\n",
    "\n",
    "\n",
    "tbed_v_bedt = px.scatter(new_df, \n",
    "                         x='Start by hour', \n",
    "                         y='Time in bed', \n",
    "                         color='Sleep quality', \n",
    "                         hover_data=['Sleep quality'],\n",
    "                         size='Sleep quality',\n",
    "                         title='Sleep Quality Affected by Bed Time',\n",
    "                         labels={'Start by hour': 'Bed Time',\n",
    "                                 'Time in bed': 'Time Asleep (hrs)'},)\n",
    "\n",
    "tbed_v_wkup = px.scatter(new_df, \n",
    "                         x='End by hour', \n",
    "                         y='Time in bed', \n",
    "                         color='Sleep quality',  \n",
    "                         hover_data=['Sleep quality'],\n",
    "                         size='Sleep quality',\n",
    "                         title='Sleep Quality Affected by Wake-up Time',\n",
    "                         labels={'End by hour': 'Wake-up Time',\n",
    "                                 'Time in bed': 'Time Asleep (hrs)'})\n",
    "\n",
    "\n",
    "\n",
    "wkup_v_bedt = px.scatter(new_df, \n",
    "                         x='Start by hour', \n",
    "                         y='End by hour', \n",
    "                         color='Sleep quality',  \n",
    "                         hover_data=['Sleep quality', 'Time in bed'],\n",
    "                         range_x=(-1, 10), \n",
    "                         range_y=(0, 15), \n",
    "                         size='Sleep quality',\n",
    "                         title='Early to Bed Late to Rise = Better Sleep',\n",
    "                         labels={'End by hour': 'Wake-up Time',\n",
    "                                 'Start by hour': 'Bed Time'})\n",
    "\n",
    "tbed_v_bedt.show()\n",
    "tbed_v_wkup.show()\n",
    "wkup_v_bedt.show()"
   ]
  },
  {
   "cell_type": "code",
   "execution_count": null,
   "metadata": {
    "colab": {
     "base_uri": "https://localhost:8080/",
     "height": 419
    },
    "colab_type": "code",
    "id": "u9TJqqw2OSzO",
    "outputId": "c6a835a1-3d59-4357-80b6-36ec6fc7fa24"
   },
   "outputs": [],
   "source": [
    "weather_df = pd.read_csv('/content/1950768.csv')\n",
    "weather_df"
   ]
  },
  {
   "cell_type": "code",
   "execution_count": null,
   "metadata": {
    "colab": {
     "base_uri": "https://localhost:8080/",
     "height": 419
    },
    "colab_type": "code",
    "id": "PpCw3JqAOr7L",
    "outputId": "6b936a40-9c11-4ba1-decc-4a73f488eec0"
   },
   "outputs": [],
   "source": [
    "weather_df = weather_df.dropna()\n",
    "weather_df"
   ]
  },
  {
   "cell_type": "code",
   "execution_count": null,
   "metadata": {
    "colab": {
     "base_uri": "https://localhost:8080/",
     "height": 419
    },
    "colab_type": "code",
    "id": "Sc8dJLNZPBQ1",
    "outputId": "4a0e8559-4871-47d7-e453-bcba9913ba0c"
   },
   "outputs": [],
   "source": [
    "weather_df = pd.DataFrame(weather_df.drop(columns='STATION'))\n",
    "weather_df"
   ]
  },
  {
   "cell_type": "code",
   "execution_count": null,
   "metadata": {
    "colab": {
     "base_uri": "https://localhost:8080/",
     "height": 34
    },
    "colab_type": "code",
    "id": "tT6pbDOZLNGH",
    "outputId": "3efcf745-0e83-49ce-f042-d73add168b6e"
   },
   "outputs": [],
   "source": [
    "weather_df['DATE'] = weather_df['DATE'].drop_duplicates(keep='first')\n",
    "weather_df.shape"
   ]
  },
  {
   "cell_type": "code",
   "execution_count": null,
   "metadata": {
    "colab": {
     "base_uri": "https://localhost:8080/",
     "height": 159
    },
    "colab_type": "code",
    "id": "TDk395XRRiOT",
    "outputId": "05e7c276-0ad5-41aa-bf02-55042659e5e4"
   },
   "outputs": [],
   "source": [
    "weather_df = weather_df.dropna()\n",
    "print(weather_df.shape)\n",
    "weather_df.head(3)"
   ]
  },
  {
   "cell_type": "code",
   "execution_count": null,
   "metadata": {
    "colab": {
     "base_uri": "https://localhost:8080/",
     "height": 258
    },
    "colab_type": "code",
    "id": "JH5VJ-jvQFGA",
    "outputId": "4c346b9d-aab3-416a-dff1-9d049f9c9070"
   },
   "outputs": [],
   "source": [
    "weather_df.columns = ['Date', 'AvgWnd', 'TAvg']\n",
    "\n",
    "weather_df['Date'] = weather_df['Date'].astype(str)\n",
    "\n",
    "print(weather_df.head(3))\n",
    "\n",
    "weather_df.shape"
   ]
  },
  {
   "cell_type": "code",
   "execution_count": null,
   "metadata": {
    "colab": {},
    "colab_type": "code",
    "id": "1kUGErUCER83"
   },
   "outputs": [],
   "source": [
    "new_df['Date'] = new_df['Date'].astype(str)"
   ]
  },
  {
   "cell_type": "code",
   "execution_count": null,
   "metadata": {
    "colab": {
     "base_uri": "https://localhost:8080/",
     "height": 643
    },
    "colab_type": "code",
    "id": "yUzToThB50kF",
    "outputId": "fa3078e7-85e5-465f-c898-574165e5e1a3"
   },
   "outputs": [],
   "source": [
    "left = new_df\n",
    "right = weather_df\n",
    "\n",
    "concat_df = pd.merge(new_df, \n",
    "                     weather_df, \n",
    "                     on='Date', \n",
    "                     how='inner')\n",
    "concat_df"
   ]
  },
  {
   "cell_type": "code",
   "execution_count": null,
   "metadata": {
    "colab": {
     "base_uri": "https://localhost:8080/",
     "height": 34
    },
    "colab_type": "code",
    "id": "K9TtW1QwSwYv",
    "outputId": "5f200277-613d-4771-81e2-532a83fbe6ad"
   },
   "outputs": [],
   "source": [
    "concat_df['Sleep Quality Categories'].isna().sum()"
   ]
  },
  {
   "cell_type": "code",
   "execution_count": null,
   "metadata": {
    "colab": {
     "base_uri": "https://localhost:8080/",
     "height": 519
    },
    "colab_type": "code",
    "id": "53RjkQZiTA2z",
    "outputId": "a758e8b9-c758-4150-fe58-46451fd0f220"
   },
   "outputs": [],
   "source": [
    "concat_df = concat_df.dropna()\n",
    "print(concat_df.shape)\n",
    "print(concat_df.isnull().any())\n",
    "concat_df.head(3)"
   ]
  },
  {
   "cell_type": "code",
   "execution_count": null,
   "metadata": {
    "colab": {},
    "colab_type": "code",
    "id": "k7A6oh9kPwLr"
   },
   "outputs": [],
   "source": [
    "# concat_df['Date'] = concat_df['Date'].drop_duplicates(keep='first')\n",
    "# concat_df['Date'] = concat_df['Date'].dropna()\n",
    "# print(concat_df.shape)\n",
    "# concat_df.head(4)"
   ]
  },
  {
   "cell_type": "code",
   "execution_count": null,
   "metadata": {
    "colab": {
     "base_uri": "https://localhost:8080/",
     "height": 1000
    },
    "colab_type": "code",
    "id": "2sDkbvZsToe-",
    "outputId": "3955da40-24d4-4f60-ae0f-adaa9e88cfdc"
   },
   "outputs": [],
   "source": [
    "slp_qual_v_dt = px.scatter(concat_df, \n",
    "                           x='Date', \n",
    "                           y='TAvg', \n",
    "                           color='Sleep quality', \n",
    "                           size='Time in bed', \n",
    "                           hover_data=['Sleep quality'],\n",
    "                           labels={'Date': 'Time of Year',\n",
    "                                 'TAvg': 'Average T (F)'},\n",
    "                           title='Sleep Affected by Temperature')\n",
    "\n",
    "# comp_grph = px.scatter(concat_df, \n",
    "#                        x='Date', \n",
    "#                        y='TAvg', \n",
    "#                        color='Sleep quality', \n",
    "#                        size='Time in bed', \n",
    "#                        hover_data=['Sleep quality'],\n",
    "#                        labels={'Date': 'Time of Year',\n",
    "#                                 'TAvg': 'Average T (F)'})\n",
    "\n",
    "time_v_temp = px.scatter(concat_df, \n",
    "                         x='Date', \n",
    "                         y='TAvg',\n",
    "                         color='TAvg', \n",
    "                         size='TAvg',\n",
    "                         hover_data=['Sleep quality'],\n",
    "                         labels={'Date': 'Time of Year',\n",
    "                                 'TAvg': 'Average T (F)'},\n",
    "                         title='Temperature Through the Year')\n",
    "\n",
    "slp_qual_v_wnd = px.scatter(concat_df, \n",
    "                            x='Date', \n",
    "                            y='AvgWnd', \n",
    "                            color='Sleep quality', \n",
    "                            size='Time in bed', \n",
    "                            hover_data=['Sleep quality'],\n",
    "                            labels={'Date': 'Time of Year',\n",
    "                                 'AvgWnd': 'Average Wind Speed (m/s)'},\n",
    "                            title='Sleep Affected by Wind Speeds')\n",
    "\n",
    "time_v_wnd = px.scatter(concat_df, \n",
    "                        x='Date', \n",
    "                        y='AvgWnd', \n",
    "                        color='AvgWnd', \n",
    "                        size='AvgWnd',   \n",
    "                        hover_data=['Sleep quality'],\n",
    "                        labels={'Date': 'Time of Year',\n",
    "                              'AvgWnd': 'Average Wind Speed (m/s)'},\n",
    "                        title='Wind Speeds Through the Year')\n",
    "\n",
    "slp_qual_v_time_in_bed = px.scatter(concat_df, \n",
    "                                    x='Time in bed', \n",
    "                                    y='Sleep quality', \n",
    "                                    color='Sleep quality', \n",
    "                                    size='Time in bed', \n",
    "                                    hover_data=['Sleep quality'],\n",
    "                                    labels={'Time in bed': 'Time Asleep (h)'},\n",
    "                                    title='Sleep Quality Affected by Time Asleep')\n",
    "\n",
    "# comp_grph.show()\n",
    "time_v_temp.show()\n",
    "time_v_wnd.show()\n",
    "slp_qual_v_wnd.show()\n",
    "slp_qual_v_dt.show()\n",
    "slp_qual_v_time_in_bed.show()"
   ]
  }
 ],
 "metadata": {
  "colab": {
   "collapsed_sections": [],
   "name": "Sleep Data notebook.ipynb",
   "provenance": []
  },
  "kernelspec": {
   "display_name": "Python 3",
   "language": "python",
   "name": "python3"
  },
  "language_info": {
   "codemirror_mode": {
    "name": "ipython",
    "version": 3
   },
   "file_extension": ".py",
   "mimetype": "text/x-python",
   "name": "python",
   "nbconvert_exporter": "python",
   "pygments_lexer": "ipython3",
   "version": "3.7.4"
  }
 },
 "nbformat": 4,
 "nbformat_minor": 4
}
